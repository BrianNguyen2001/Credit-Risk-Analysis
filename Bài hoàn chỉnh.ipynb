{
 "cells": [
  {
   "cell_type": "markdown",
   "metadata": {},
   "source": [
    "# **Thư viện**"
   ]
  },
  {
   "cell_type": "code",
   "execution_count": 99,
   "metadata": {},
   "outputs": [],
   "source": [
    "import pandas as pd \n",
    "import numpy as np \n",
    "import matplotlib.pyplot as plt \n",
    "from sklearn.ensemble import RandomForestClassifier\n",
    "from sklearn.metrics import classification_report, confusion_matrix, accuracy_score, roc_auc_score\n",
    "from sklearn.model_selection import cross_val_score\n",
    "from sklearn.model_selection import train_test_split\n",
    "from sklearn.tree import DecisionTreeClassifier\n",
    "from sklearn.linear_model import LogisticRegression\n",
    "from sklearn.metrics import roc_curve, auc\n",
    "from sklearn import tree"
   ]
  },
  {
   "cell_type": "markdown",
   "metadata": {},
   "source": [
    "# **Đọc dữ liệu**"
   ]
  },
  {
   "cell_type": "code",
   "execution_count": 100,
   "metadata": {},
   "outputs": [],
   "source": [
    "data = pd.read_excel(r'Demo_Default_Risk.xlsx',index_col=0)"
   ]
  },
  {
   "cell_type": "code",
   "execution_count": 101,
   "metadata": {},
   "outputs": [],
   "source": [
    "from copy import deepcopy\n",
    "df = deepcopy(data) "
   ]
  },
  {
   "cell_type": "code",
   "execution_count": 102,
   "metadata": {},
   "outputs": [],
   "source": [
    "df.dropna(axis=1, how='all', inplace=True)\n",
    "df = df[df.columns[0:8]]"
   ]
  },
  {
   "cell_type": "code",
   "execution_count": 103,
   "metadata": {},
   "outputs": [],
   "source": [
    "df['Sex'] = df['Giới tính (0: Nam, 1: Nữ)']\n",
    "df = df.drop('Giới tính (0: Nam, 1: Nữ)', 1)\n",
    "\n",
    "df['Thu Nhập'] = df['Thu nhập (đơn vị triệu vnđ)']\n",
    "df = df.drop('Thu nhập (đơn vị triệu vnđ)', 1)\n",
    "\n",
    "df.index = df.index.set_names('No.')\n",
    "df.columns = ['Default','Work status', 'Collateral' ,'Age','Marriage','Loan purpose','Sex','Income']\n",
    "\n",
    "df.Sex = df.Sex.astype('object')"
   ]
  },
  {
   "cell_type": "code",
   "execution_count": 104,
   "metadata": {},
   "outputs": [
    {
     "data": {
      "text/html": [
       "<div>\n",
       "<style scoped>\n",
       "    .dataframe tbody tr th:only-of-type {\n",
       "        vertical-align: middle;\n",
       "    }\n",
       "\n",
       "    .dataframe tbody tr th {\n",
       "        vertical-align: top;\n",
       "    }\n",
       "\n",
       "    .dataframe thead th {\n",
       "        text-align: right;\n",
       "    }\n",
       "</style>\n",
       "<table border=\"1\" class=\"dataframe\">\n",
       "  <thead>\n",
       "    <tr style=\"text-align: right;\">\n",
       "      <th></th>\n",
       "      <th>Default</th>\n",
       "      <th>Work status</th>\n",
       "      <th>Collateral</th>\n",
       "      <th>Age</th>\n",
       "      <th>Marriage</th>\n",
       "      <th>Loan purpose</th>\n",
       "      <th>Sex</th>\n",
       "      <th>Income</th>\n",
       "    </tr>\n",
       "    <tr>\n",
       "      <th>No.</th>\n",
       "      <th></th>\n",
       "      <th></th>\n",
       "      <th></th>\n",
       "      <th></th>\n",
       "      <th></th>\n",
       "      <th></th>\n",
       "      <th></th>\n",
       "      <th></th>\n",
       "    </tr>\n",
       "  </thead>\n",
       "  <tbody>\n",
       "    <tr>\n",
       "      <th>1</th>\n",
       "      <td>1. Trả nợ đúng hạn.</td>\n",
       "      <td>1. Không chuyển việc trong vòng 2 năm.</td>\n",
       "      <td>4. Có đủ tài sản đảm bảo của bản thân</td>\n",
       "      <td>2: 30 &lt; X ≤ 50</td>\n",
       "      <td>2: Đã kết hôn</td>\n",
       "      <td>2: Vay phục vụ SXKD</td>\n",
       "      <td>1</td>\n",
       "      <td>30</td>\n",
       "    </tr>\n",
       "    <tr>\n",
       "      <th>2</th>\n",
       "      <td>2. Trả nợ trễ hạn.</td>\n",
       "      <td>2. Chuyển việc 1 lần trong vòng 2 năm.</td>\n",
       "      <td>2. Có 1 phần tài sản đảm bảo</td>\n",
       "      <td>3: X &gt; 50</td>\n",
       "      <td>3: Ly dị</td>\n",
       "      <td>1: Vay phục vụ nhu cầu đời sống</td>\n",
       "      <td>1</td>\n",
       "      <td>20</td>\n",
       "    </tr>\n",
       "    <tr>\n",
       "      <th>3</th>\n",
       "      <td>2. Trả nợ trễ hạn.</td>\n",
       "      <td>3. Chuyển việc 2 lần trong vòng 2 năm.</td>\n",
       "      <td>1. Không có tài sản đảm bảo</td>\n",
       "      <td>1: X ≤ 30</td>\n",
       "      <td>3: Ly dị</td>\n",
       "      <td>2: Vay phục vụ SXKD</td>\n",
       "      <td>0</td>\n",
       "      <td>9</td>\n",
       "    </tr>\n",
       "    <tr>\n",
       "      <th>4</th>\n",
       "      <td>2. Trả nợ trễ hạn.</td>\n",
       "      <td>3. Chuyển việc 2 lần trong vòng 2 năm.</td>\n",
       "      <td>1. Không có tài sản đảm bảo</td>\n",
       "      <td>2: 30 &lt; X ≤ 50</td>\n",
       "      <td>2: Đã kết hôn</td>\n",
       "      <td>1: Vay phục vụ nhu cầu đời sống</td>\n",
       "      <td>0</td>\n",
       "      <td>22</td>\n",
       "    </tr>\n",
       "    <tr>\n",
       "      <th>5</th>\n",
       "      <td>2. Trả nợ trễ hạn.</td>\n",
       "      <td>3. Chuyển việc 2 lần trong vòng 2 năm.</td>\n",
       "      <td>2. Có 1 phần tài sản đảm bảo</td>\n",
       "      <td>3: X &gt; 50</td>\n",
       "      <td>3: Ly dị</td>\n",
       "      <td>1: Vay phục vụ nhu cầu đời sống</td>\n",
       "      <td>0</td>\n",
       "      <td>10</td>\n",
       "    </tr>\n",
       "    <tr>\n",
       "      <th>6</th>\n",
       "      <td>1. Trả nợ đúng hạn.</td>\n",
       "      <td>1. Không chuyển việc trong vòng 2 năm.</td>\n",
       "      <td>4. Có đủ tài sản đảm bảo của bản thân</td>\n",
       "      <td>2: 30 &lt; X ≤ 50</td>\n",
       "      <td>2: Đã kết hôn</td>\n",
       "      <td>2: Vay phục vụ SXKD</td>\n",
       "      <td>1</td>\n",
       "      <td>45</td>\n",
       "    </tr>\n",
       "    <tr>\n",
       "      <th>7</th>\n",
       "      <td>1. Trả nợ đúng hạn.</td>\n",
       "      <td>2. Chuyển việc 1 lần trong vòng 2 năm.</td>\n",
       "      <td>3. Có đủ tài sản đảm bảo được bảo lãnh</td>\n",
       "      <td>2: 30 &lt; X ≤ 50</td>\n",
       "      <td>3: Ly dị</td>\n",
       "      <td>2: Vay phục vụ SXKD</td>\n",
       "      <td>1</td>\n",
       "      <td>44</td>\n",
       "    </tr>\n",
       "    <tr>\n",
       "      <th>8</th>\n",
       "      <td>1. Trả nợ đúng hạn.</td>\n",
       "      <td>1. Không chuyển việc trong vòng 2 năm.</td>\n",
       "      <td>3. Có đủ tài sản đảm bảo được bảo lãnh</td>\n",
       "      <td>2: 30 &lt; X ≤ 50</td>\n",
       "      <td>2: Đã kết hôn</td>\n",
       "      <td>1: Vay phục vụ nhu cầu đời sống</td>\n",
       "      <td>1</td>\n",
       "      <td>42</td>\n",
       "    </tr>\n",
       "    <tr>\n",
       "      <th>9</th>\n",
       "      <td>2. Trả nợ trễ hạn.</td>\n",
       "      <td>3. Chuyển việc 2 lần trong vòng 2 năm.</td>\n",
       "      <td>1. Không có tài sản đảm bảo</td>\n",
       "      <td>3: X &gt; 50</td>\n",
       "      <td>3: Ly dị</td>\n",
       "      <td>1: Vay phục vụ nhu cầu đời sống</td>\n",
       "      <td>1</td>\n",
       "      <td>15</td>\n",
       "    </tr>\n",
       "    <tr>\n",
       "      <th>10</th>\n",
       "      <td>1. Trả nợ đúng hạn.</td>\n",
       "      <td>1. Không chuyển việc trong vòng 2 năm.</td>\n",
       "      <td>4. Có đủ tài sản đảm bảo của bản thân</td>\n",
       "      <td>2: 30 &lt; X ≤ 50</td>\n",
       "      <td>2: Đã kết hôn</td>\n",
       "      <td>2: Vay phục vụ SXKD</td>\n",
       "      <td>0</td>\n",
       "      <td>34</td>\n",
       "    </tr>\n",
       "  </tbody>\n",
       "</table>\n",
       "</div>"
      ],
      "text/plain": [
       "                 Default                             Work status  \\\n",
       "No.                                                                \n",
       "1    1. Trả nợ đúng hạn.  1. Không chuyển việc trong vòng 2 năm.   \n",
       "2     2. Trả nợ trễ hạn.  2. Chuyển việc 1 lần trong vòng 2 năm.   \n",
       "3     2. Trả nợ trễ hạn.  3. Chuyển việc 2 lần trong vòng 2 năm.   \n",
       "4     2. Trả nợ trễ hạn.  3. Chuyển việc 2 lần trong vòng 2 năm.   \n",
       "5     2. Trả nợ trễ hạn.  3. Chuyển việc 2 lần trong vòng 2 năm.   \n",
       "6    1. Trả nợ đúng hạn.  1. Không chuyển việc trong vòng 2 năm.   \n",
       "7    1. Trả nợ đúng hạn.  2. Chuyển việc 1 lần trong vòng 2 năm.   \n",
       "8    1. Trả nợ đúng hạn.  1. Không chuyển việc trong vòng 2 năm.   \n",
       "9     2. Trả nợ trễ hạn.  3. Chuyển việc 2 lần trong vòng 2 năm.   \n",
       "10   1. Trả nợ đúng hạn.  1. Không chuyển việc trong vòng 2 năm.   \n",
       "\n",
       "                                 Collateral             Age       Marriage  \\\n",
       "No.                                                                          \n",
       "1     4. Có đủ tài sản đảm bảo của bản thân  2: 30 < X ≤ 50  2: Đã kết hôn   \n",
       "2              2. Có 1 phần tài sản đảm bảo       3: X > 50       3: Ly dị   \n",
       "3               1. Không có tài sản đảm bảo       1: X ≤ 30       3: Ly dị   \n",
       "4               1. Không có tài sản đảm bảo  2: 30 < X ≤ 50  2: Đã kết hôn   \n",
       "5              2. Có 1 phần tài sản đảm bảo       3: X > 50       3: Ly dị   \n",
       "6     4. Có đủ tài sản đảm bảo của bản thân  2: 30 < X ≤ 50  2: Đã kết hôn   \n",
       "7    3. Có đủ tài sản đảm bảo được bảo lãnh  2: 30 < X ≤ 50       3: Ly dị   \n",
       "8    3. Có đủ tài sản đảm bảo được bảo lãnh  2: 30 < X ≤ 50  2: Đã kết hôn   \n",
       "9               1. Không có tài sản đảm bảo       3: X > 50       3: Ly dị   \n",
       "10    4. Có đủ tài sản đảm bảo của bản thân  2: 30 < X ≤ 50  2: Đã kết hôn   \n",
       "\n",
       "                        Loan purpose Sex  Income  \n",
       "No.                                               \n",
       "1                2: Vay phục vụ SXKD   1      30  \n",
       "2    1: Vay phục vụ nhu cầu đời sống   1      20  \n",
       "3                2: Vay phục vụ SXKD   0       9  \n",
       "4    1: Vay phục vụ nhu cầu đời sống   0      22  \n",
       "5    1: Vay phục vụ nhu cầu đời sống   0      10  \n",
       "6                2: Vay phục vụ SXKD   1      45  \n",
       "7                2: Vay phục vụ SXKD   1      44  \n",
       "8    1: Vay phục vụ nhu cầu đời sống   1      42  \n",
       "9    1: Vay phục vụ nhu cầu đời sống   1      15  \n",
       "10               2: Vay phục vụ SXKD   0      34  "
      ]
     },
     "execution_count": 104,
     "metadata": {},
     "output_type": "execute_result"
    }
   ],
   "source": [
    "df.head(10)"
   ]
  },
  {
   "cell_type": "markdown",
   "metadata": {},
   "source": [
    "# **Thống kê mô tả**"
   ]
  },
  {
   "cell_type": "code",
   "execution_count": 105,
   "metadata": {},
   "outputs": [
    {
     "name": "stdout",
     "output_type": "stream",
     "text": [
      "<class 'pandas.core.frame.DataFrame'>\n",
      "Int64Index: 270 entries, 1 to 270\n",
      "Data columns (total 8 columns):\n",
      " #   Column        Non-Null Count  Dtype \n",
      "---  ------        --------------  ----- \n",
      " 0   Default       270 non-null    object\n",
      " 1   Work status   270 non-null    object\n",
      " 2   Collateral    270 non-null    object\n",
      " 3   Age           270 non-null    object\n",
      " 4   Marriage      270 non-null    object\n",
      " 5   Loan purpose  270 non-null    object\n",
      " 6   Sex           270 non-null    object\n",
      " 7   Income        270 non-null    int64 \n",
      "dtypes: int64(1), object(7)\n",
      "memory usage: 19.0+ KB\n"
     ]
    }
   ],
   "source": [
    "df.info()"
   ]
  },
  {
   "cell_type": "code",
   "execution_count": 106,
   "metadata": {},
   "outputs": [
    {
     "name": "stdout",
     "output_type": "stream",
     "text": [
      "Number of numerical features:  1\n"
     ]
    }
   ],
   "source": [
    "numerical_features = ['Income']\n",
    "print('Number of numerical features: ', len(numerical_features))"
   ]
  },
  {
   "cell_type": "code",
   "execution_count": 107,
   "metadata": {},
   "outputs": [
    {
     "name": "stdout",
     "output_type": "stream",
     "text": [
      "Number of numerical features:  6\n"
     ]
    }
   ],
   "source": [
    "categorical_features = [x for x in df.columns if (x not in numerical_features and x != 'Default')]\n",
    "print('Number of numerical features: ', len(categorical_features))"
   ]
  },
  {
   "cell_type": "code",
   "execution_count": 108,
   "metadata": {},
   "outputs": [
    {
     "data": {
      "text/html": [
       "<div>\n",
       "<style scoped>\n",
       "    .dataframe tbody tr th:only-of-type {\n",
       "        vertical-align: middle;\n",
       "    }\n",
       "\n",
       "    .dataframe tbody tr th {\n",
       "        vertical-align: top;\n",
       "    }\n",
       "\n",
       "    .dataframe thead th {\n",
       "        text-align: right;\n",
       "    }\n",
       "</style>\n",
       "<table border=\"1\" class=\"dataframe\">\n",
       "  <thead>\n",
       "    <tr style=\"text-align: right;\">\n",
       "      <th></th>\n",
       "      <th>Income</th>\n",
       "    </tr>\n",
       "  </thead>\n",
       "  <tbody>\n",
       "    <tr>\n",
       "      <th>count</th>\n",
       "      <td>270.000000</td>\n",
       "    </tr>\n",
       "    <tr>\n",
       "      <th>mean</th>\n",
       "      <td>30.659259</td>\n",
       "    </tr>\n",
       "    <tr>\n",
       "      <th>std</th>\n",
       "      <td>15.056603</td>\n",
       "    </tr>\n",
       "    <tr>\n",
       "      <th>min</th>\n",
       "      <td>4.000000</td>\n",
       "    </tr>\n",
       "    <tr>\n",
       "      <th>25%</th>\n",
       "      <td>18.250000</td>\n",
       "    </tr>\n",
       "    <tr>\n",
       "      <th>50%</th>\n",
       "      <td>30.000000</td>\n",
       "    </tr>\n",
       "    <tr>\n",
       "      <th>75%</th>\n",
       "      <td>42.000000</td>\n",
       "    </tr>\n",
       "    <tr>\n",
       "      <th>max</th>\n",
       "      <td>70.000000</td>\n",
       "    </tr>\n",
       "  </tbody>\n",
       "</table>\n",
       "</div>"
      ],
      "text/plain": [
       "           Income\n",
       "count  270.000000\n",
       "mean    30.659259\n",
       "std     15.056603\n",
       "min      4.000000\n",
       "25%     18.250000\n",
       "50%     30.000000\n",
       "75%     42.000000\n",
       "max     70.000000"
      ]
     },
     "execution_count": 108,
     "metadata": {},
     "output_type": "execute_result"
    }
   ],
   "source": [
    "# Thống kê mô tả biến liên tục\n",
    "df[numerical_features].describe()"
   ]
  },
  {
   "cell_type": "code",
   "execution_count": 109,
   "metadata": {},
   "outputs": [
    {
     "data": {
      "text/html": [
       "<div>\n",
       "<style scoped>\n",
       "    .dataframe tbody tr th:only-of-type {\n",
       "        vertical-align: middle;\n",
       "    }\n",
       "\n",
       "    .dataframe tbody tr th {\n",
       "        vertical-align: top;\n",
       "    }\n",
       "\n",
       "    .dataframe thead th {\n",
       "        text-align: right;\n",
       "    }\n",
       "</style>\n",
       "<table border=\"1\" class=\"dataframe\">\n",
       "  <thead>\n",
       "    <tr style=\"text-align: right;\">\n",
       "      <th></th>\n",
       "      <th>Work status</th>\n",
       "      <th>Collateral</th>\n",
       "      <th>Age</th>\n",
       "      <th>Marriage</th>\n",
       "      <th>Loan purpose</th>\n",
       "      <th>Sex</th>\n",
       "    </tr>\n",
       "  </thead>\n",
       "  <tbody>\n",
       "    <tr>\n",
       "      <th>count</th>\n",
       "      <td>270</td>\n",
       "      <td>270</td>\n",
       "      <td>270</td>\n",
       "      <td>270</td>\n",
       "      <td>270</td>\n",
       "      <td>270</td>\n",
       "    </tr>\n",
       "    <tr>\n",
       "      <th>unique</th>\n",
       "      <td>3</td>\n",
       "      <td>4</td>\n",
       "      <td>3</td>\n",
       "      <td>3</td>\n",
       "      <td>2</td>\n",
       "      <td>2</td>\n",
       "    </tr>\n",
       "    <tr>\n",
       "      <th>top</th>\n",
       "      <td>1. Không chuyển việc trong vòng 2 năm.</td>\n",
       "      <td>4. Có đủ tài sản đảm bảo của bản thân</td>\n",
       "      <td>2: 30 &lt; X ≤ 50</td>\n",
       "      <td>2: Đã kết hôn</td>\n",
       "      <td>2: Vay phục vụ SXKD</td>\n",
       "      <td>0</td>\n",
       "    </tr>\n",
       "    <tr>\n",
       "      <th>freq</th>\n",
       "      <td>110</td>\n",
       "      <td>76</td>\n",
       "      <td>120</td>\n",
       "      <td>145</td>\n",
       "      <td>155</td>\n",
       "      <td>143</td>\n",
       "    </tr>\n",
       "  </tbody>\n",
       "</table>\n",
       "</div>"
      ],
      "text/plain": [
       "                                   Work status  \\\n",
       "count                                      270   \n",
       "unique                                       3   \n",
       "top     1. Không chuyển việc trong vòng 2 năm.   \n",
       "freq                                       110   \n",
       "\n",
       "                                   Collateral             Age       Marriage  \\\n",
       "count                                     270             270            270   \n",
       "unique                                      4               3              3   \n",
       "top     4. Có đủ tài sản đảm bảo của bản thân  2: 30 < X ≤ 50  2: Đã kết hôn   \n",
       "freq                                       76             120            145   \n",
       "\n",
       "               Loan purpose  Sex  \n",
       "count                   270  270  \n",
       "unique                    2    2  \n",
       "top     2: Vay phục vụ SXKD    0  \n",
       "freq                    155  143  "
      ]
     },
     "execution_count": 109,
     "metadata": {},
     "output_type": "execute_result"
    }
   ],
   "source": [
    "# Thống kê mô tả biến rời rạc\n",
    "df[categorical_features].describe()"
   ]
  },
  {
   "cell_type": "code",
   "execution_count": 110,
   "metadata": {},
   "outputs": [
    {
     "data": {
      "text/plain": [
       "Default            \n",
       "1. Trả nợ đúng hạn.    158\n",
       "2. Trả nợ trễ hạn.     112\n",
       "dtype: int64"
      ]
     },
     "execution_count": 110,
     "metadata": {},
     "output_type": "execute_result"
    }
   ],
   "source": [
    "df.value_counts(['Default'])"
   ]
  },
  {
   "cell_type": "markdown",
   "metadata": {},
   "source": [
    "    => Dữ liệu cân bằng."
   ]
  },
  {
   "cell_type": "markdown",
   "metadata": {},
   "source": [
    "# **Xây dựng hàm**"
   ]
  },
  {
   "cell_type": "code",
   "execution_count": 111,
   "metadata": {},
   "outputs": [],
   "source": [
    "# Hàm vẽ đường ROC-AUC\n",
    "def _plot_roc_curve(fpr, tpr, thres, auc):\n",
    "    plt.figure(figsize = (10, 8))\n",
    "    plt.plot(fpr, tpr, 'b-', color='darkorange', lw=2, linestyle='--', label='ROC curve (area = %0.2f)'%auc)\n",
    "    plt.plot([0, 1], [0, 1], '--')\n",
    "    plt.axis([0, 1, 0, 1])\n",
    "    plt.xlabel('False Positive Rate')\n",
    "    plt.ylabel('True Positive Rate')\n",
    "    plt.legend(loc='lower right')\n",
    "    plt.title('ROC Curve')"
   ]
  },
  {
   "cell_type": "code",
   "execution_count": 112,
   "metadata": {},
   "outputs": [],
   "source": [
    "# Hàm encoding từ chữ sang số\n",
    "def code_data(df,text):\n",
    "    code_text = df[text]\n",
    "    trafer_coding = []\n",
    "    for i in code_text:\n",
    "        if '4' in i[0]:\n",
    "            i = 4\n",
    "            trafer_coding.append(i)        \n",
    "        elif '1' in i[0]:\n",
    "            i = 1\n",
    "            trafer_coding.append(i)\n",
    "        elif '2' in i[0]:\n",
    "            i = 2\n",
    "            trafer_coding.append(i)\n",
    "        elif '3' in i[0]:\n",
    "            i = 3\n",
    "            trafer_coding.append(i)\n",
    "        elif '0' in i[0]:\n",
    "            i = 0\n",
    "            trafer_coding.append(i)  \n",
    "    return trafer_coding\n"
   ]
  },
  {
   "cell_type": "markdown",
   "metadata": {},
   "source": [
    "# **Xử lý dữ liệu**"
   ]
  },
  {
   "cell_type": "markdown",
   "metadata": {},
   "source": [
    "# **Encoding cho biến phụ thuộc**\n",
    "        1. Trả được nợ trễ hạn. => 0\n",
    "        \n",
    "        2. Trả được nợ đúng hạn. => 1"
   ]
  },
  {
   "cell_type": "code",
   "execution_count": 113,
   "metadata": {},
   "outputs": [],
   "source": [
    "# Áp dụng hàm coding cho các cột\n",
    "for i in range(len(df.columns)-2):\n",
    "    df[df.columns[i]] = code_data(df,df.columns[i])"
   ]
  },
  {
   "cell_type": "code",
   "execution_count": 114,
   "metadata": {},
   "outputs": [],
   "source": [
    "# Coding cho biến phụ thuộc\n",
    "y_coding = []\n",
    "for i in df[df.columns[0]]:\n",
    "    if i == 1:\n",
    "        i = 1\n",
    "        y_coding.append(i)\n",
    "    elif i == 2:\n",
    "        i = 0\n",
    "        y_coding.append(i)\n",
    "\n",
    "df[df.columns[0]] = y_coding"
   ]
  },
  {
   "cell_type": "code",
   "execution_count": 115,
   "metadata": {},
   "outputs": [
    {
     "data": {
      "text/html": [
       "<div>\n",
       "<style scoped>\n",
       "    .dataframe tbody tr th:only-of-type {\n",
       "        vertical-align: middle;\n",
       "    }\n",
       "\n",
       "    .dataframe tbody tr th {\n",
       "        vertical-align: top;\n",
       "    }\n",
       "\n",
       "    .dataframe thead th {\n",
       "        text-align: right;\n",
       "    }\n",
       "</style>\n",
       "<table border=\"1\" class=\"dataframe\">\n",
       "  <thead>\n",
       "    <tr style=\"text-align: right;\">\n",
       "      <th></th>\n",
       "      <th>Default</th>\n",
       "      <th>Work status</th>\n",
       "      <th>Collateral</th>\n",
       "      <th>Age</th>\n",
       "      <th>Marriage</th>\n",
       "      <th>Loan purpose</th>\n",
       "      <th>Income</th>\n",
       "    </tr>\n",
       "  </thead>\n",
       "  <tbody>\n",
       "    <tr>\n",
       "      <th>count</th>\n",
       "      <td>270.000000</td>\n",
       "      <td>270.000000</td>\n",
       "      <td>270.000000</td>\n",
       "      <td>270.00000</td>\n",
       "      <td>270.000000</td>\n",
       "      <td>270.000000</td>\n",
       "      <td>270.000000</td>\n",
       "    </tr>\n",
       "    <tr>\n",
       "      <th>mean</th>\n",
       "      <td>0.585185</td>\n",
       "      <td>1.851852</td>\n",
       "      <td>2.540741</td>\n",
       "      <td>1.97037</td>\n",
       "      <td>1.951852</td>\n",
       "      <td>1.574074</td>\n",
       "      <td>30.659259</td>\n",
       "    </tr>\n",
       "    <tr>\n",
       "      <th>std</th>\n",
       "      <td>0.493605</td>\n",
       "      <td>0.804435</td>\n",
       "      <td>1.142377</td>\n",
       "      <td>0.74615</td>\n",
       "      <td>0.679968</td>\n",
       "      <td>0.495401</td>\n",
       "      <td>15.056603</td>\n",
       "    </tr>\n",
       "    <tr>\n",
       "      <th>min</th>\n",
       "      <td>0.000000</td>\n",
       "      <td>1.000000</td>\n",
       "      <td>1.000000</td>\n",
       "      <td>1.00000</td>\n",
       "      <td>1.000000</td>\n",
       "      <td>1.000000</td>\n",
       "      <td>4.000000</td>\n",
       "    </tr>\n",
       "    <tr>\n",
       "      <th>25%</th>\n",
       "      <td>0.000000</td>\n",
       "      <td>1.000000</td>\n",
       "      <td>2.000000</td>\n",
       "      <td>1.00000</td>\n",
       "      <td>1.000000</td>\n",
       "      <td>1.000000</td>\n",
       "      <td>18.250000</td>\n",
       "    </tr>\n",
       "    <tr>\n",
       "      <th>50%</th>\n",
       "      <td>1.000000</td>\n",
       "      <td>2.000000</td>\n",
       "      <td>3.000000</td>\n",
       "      <td>2.00000</td>\n",
       "      <td>2.000000</td>\n",
       "      <td>2.000000</td>\n",
       "      <td>30.000000</td>\n",
       "    </tr>\n",
       "    <tr>\n",
       "      <th>75%</th>\n",
       "      <td>1.000000</td>\n",
       "      <td>3.000000</td>\n",
       "      <td>4.000000</td>\n",
       "      <td>3.00000</td>\n",
       "      <td>2.000000</td>\n",
       "      <td>2.000000</td>\n",
       "      <td>42.000000</td>\n",
       "    </tr>\n",
       "    <tr>\n",
       "      <th>max</th>\n",
       "      <td>1.000000</td>\n",
       "      <td>3.000000</td>\n",
       "      <td>4.000000</td>\n",
       "      <td>3.00000</td>\n",
       "      <td>3.000000</td>\n",
       "      <td>2.000000</td>\n",
       "      <td>70.000000</td>\n",
       "    </tr>\n",
       "  </tbody>\n",
       "</table>\n",
       "</div>"
      ],
      "text/plain": [
       "          Default  Work status  Collateral        Age    Marriage  \\\n",
       "count  270.000000   270.000000  270.000000  270.00000  270.000000   \n",
       "mean     0.585185     1.851852    2.540741    1.97037    1.951852   \n",
       "std      0.493605     0.804435    1.142377    0.74615    0.679968   \n",
       "min      0.000000     1.000000    1.000000    1.00000    1.000000   \n",
       "25%      0.000000     1.000000    2.000000    1.00000    1.000000   \n",
       "50%      1.000000     2.000000    3.000000    2.00000    2.000000   \n",
       "75%      1.000000     3.000000    4.000000    3.00000    2.000000   \n",
       "max      1.000000     3.000000    4.000000    3.00000    3.000000   \n",
       "\n",
       "       Loan purpose      Income  \n",
       "count    270.000000  270.000000  \n",
       "mean       1.574074   30.659259  \n",
       "std        0.495401   15.056603  \n",
       "min        1.000000    4.000000  \n",
       "25%        1.000000   18.250000  \n",
       "50%        2.000000   30.000000  \n",
       "75%        2.000000   42.000000  \n",
       "max        2.000000   70.000000  "
      ]
     },
     "execution_count": 115,
     "metadata": {},
     "output_type": "execute_result"
    }
   ],
   "source": [
    "df.describe()"
   ]
  },
  {
   "cell_type": "code",
   "execution_count": 116,
   "metadata": {},
   "outputs": [
    {
     "data": {
      "text/html": [
       "<div>\n",
       "<style scoped>\n",
       "    .dataframe tbody tr th:only-of-type {\n",
       "        vertical-align: middle;\n",
       "    }\n",
       "\n",
       "    .dataframe tbody tr th {\n",
       "        vertical-align: top;\n",
       "    }\n",
       "\n",
       "    .dataframe thead th {\n",
       "        text-align: right;\n",
       "    }\n",
       "</style>\n",
       "<table border=\"1\" class=\"dataframe\">\n",
       "  <thead>\n",
       "    <tr style=\"text-align: right;\">\n",
       "      <th></th>\n",
       "      <th>Default</th>\n",
       "      <th>Work status</th>\n",
       "      <th>Collateral</th>\n",
       "      <th>Age</th>\n",
       "      <th>Marriage</th>\n",
       "      <th>Loan purpose</th>\n",
       "      <th>Sex</th>\n",
       "      <th>Income</th>\n",
       "    </tr>\n",
       "    <tr>\n",
       "      <th>No.</th>\n",
       "      <th></th>\n",
       "      <th></th>\n",
       "      <th></th>\n",
       "      <th></th>\n",
       "      <th></th>\n",
       "      <th></th>\n",
       "      <th></th>\n",
       "      <th></th>\n",
       "    </tr>\n",
       "  </thead>\n",
       "  <tbody>\n",
       "    <tr>\n",
       "      <th>1</th>\n",
       "      <td>1</td>\n",
       "      <td>1</td>\n",
       "      <td>4</td>\n",
       "      <td>2</td>\n",
       "      <td>2</td>\n",
       "      <td>2</td>\n",
       "      <td>1</td>\n",
       "      <td>30</td>\n",
       "    </tr>\n",
       "    <tr>\n",
       "      <th>2</th>\n",
       "      <td>0</td>\n",
       "      <td>2</td>\n",
       "      <td>2</td>\n",
       "      <td>3</td>\n",
       "      <td>3</td>\n",
       "      <td>1</td>\n",
       "      <td>1</td>\n",
       "      <td>20</td>\n",
       "    </tr>\n",
       "    <tr>\n",
       "      <th>3</th>\n",
       "      <td>0</td>\n",
       "      <td>3</td>\n",
       "      <td>1</td>\n",
       "      <td>1</td>\n",
       "      <td>3</td>\n",
       "      <td>2</td>\n",
       "      <td>0</td>\n",
       "      <td>9</td>\n",
       "    </tr>\n",
       "    <tr>\n",
       "      <th>4</th>\n",
       "      <td>0</td>\n",
       "      <td>3</td>\n",
       "      <td>1</td>\n",
       "      <td>2</td>\n",
       "      <td>2</td>\n",
       "      <td>1</td>\n",
       "      <td>0</td>\n",
       "      <td>22</td>\n",
       "    </tr>\n",
       "    <tr>\n",
       "      <th>5</th>\n",
       "      <td>0</td>\n",
       "      <td>3</td>\n",
       "      <td>2</td>\n",
       "      <td>3</td>\n",
       "      <td>3</td>\n",
       "      <td>1</td>\n",
       "      <td>0</td>\n",
       "      <td>10</td>\n",
       "    </tr>\n",
       "    <tr>\n",
       "      <th>6</th>\n",
       "      <td>1</td>\n",
       "      <td>1</td>\n",
       "      <td>4</td>\n",
       "      <td>2</td>\n",
       "      <td>2</td>\n",
       "      <td>2</td>\n",
       "      <td>1</td>\n",
       "      <td>45</td>\n",
       "    </tr>\n",
       "    <tr>\n",
       "      <th>7</th>\n",
       "      <td>1</td>\n",
       "      <td>2</td>\n",
       "      <td>3</td>\n",
       "      <td>2</td>\n",
       "      <td>3</td>\n",
       "      <td>2</td>\n",
       "      <td>1</td>\n",
       "      <td>44</td>\n",
       "    </tr>\n",
       "    <tr>\n",
       "      <th>8</th>\n",
       "      <td>1</td>\n",
       "      <td>1</td>\n",
       "      <td>3</td>\n",
       "      <td>2</td>\n",
       "      <td>2</td>\n",
       "      <td>1</td>\n",
       "      <td>1</td>\n",
       "      <td>42</td>\n",
       "    </tr>\n",
       "    <tr>\n",
       "      <th>9</th>\n",
       "      <td>0</td>\n",
       "      <td>3</td>\n",
       "      <td>1</td>\n",
       "      <td>3</td>\n",
       "      <td>3</td>\n",
       "      <td>1</td>\n",
       "      <td>1</td>\n",
       "      <td>15</td>\n",
       "    </tr>\n",
       "    <tr>\n",
       "      <th>10</th>\n",
       "      <td>1</td>\n",
       "      <td>1</td>\n",
       "      <td>4</td>\n",
       "      <td>2</td>\n",
       "      <td>2</td>\n",
       "      <td>2</td>\n",
       "      <td>0</td>\n",
       "      <td>34</td>\n",
       "    </tr>\n",
       "  </tbody>\n",
       "</table>\n",
       "</div>"
      ],
      "text/plain": [
       "     Default  Work status  Collateral  Age  Marriage  Loan purpose Sex  Income\n",
       "No.                                                                           \n",
       "1          1            1           4    2         2             2   1      30\n",
       "2          0            2           2    3         3             1   1      20\n",
       "3          0            3           1    1         3             2   0       9\n",
       "4          0            3           1    2         2             1   0      22\n",
       "5          0            3           2    3         3             1   0      10\n",
       "6          1            1           4    2         2             2   1      45\n",
       "7          1            2           3    2         3             2   1      44\n",
       "8          1            1           3    2         2             1   1      42\n",
       "9          0            3           1    3         3             1   1      15\n",
       "10         1            1           4    2         2             2   0      34"
      ]
     },
     "execution_count": 116,
     "metadata": {},
     "output_type": "execute_result"
    }
   ],
   "source": [
    "df.head(10)"
   ]
  },
  {
   "cell_type": "code",
   "execution_count": 117,
   "metadata": {},
   "outputs": [],
   "source": [
    "# Thiết lập thuộc tính biến độc lập\n",
    "feature = df.columns[1:].to_list()\n",
    "target=  [df.columns[0]]\n",
    "\n",
    "# Gán biến phụ thuộc và biến độc lập\n",
    "x = df[feature].values\n",
    "y = df[target].values"
   ]
  },
  {
   "cell_type": "code",
   "execution_count": 118,
   "metadata": {},
   "outputs": [
    {
     "name": "stdout",
     "output_type": "stream",
     "text": [
      "Target:  ['Default']\n",
      "Features:  ['Work status', 'Collateral', 'Age', 'Marriage', 'Loan purpose', 'Sex', 'Income']\n"
     ]
    }
   ],
   "source": [
    "print('Target: ', target)\n",
    "print('Features: ', feature)"
   ]
  },
  {
   "cell_type": "markdown",
   "metadata": {},
   "source": [
    "# **Dữ liệu khách hàng mới**"
   ]
  },
  {
   "cell_type": "code",
   "execution_count": 119,
   "metadata": {},
   "outputs": [],
   "source": [
    "new_costumer = pd.read_excel(r'new_data.xlsx')\n",
    "df_new = deepcopy(new_costumer)"
   ]
  },
  {
   "cell_type": "markdown",
   "metadata": {},
   "source": [
    "**Encoding dữ liệu mới**"
   ]
  },
  {
   "cell_type": "code",
   "execution_count": 120,
   "metadata": {},
   "outputs": [],
   "source": [
    "df_new['Sex'] = df_new['Giới tính (0: Nam, 1: Nữ)']\n",
    "df_new = df_new.drop('Giới tính (0: Nam, 1: Nữ)', 1)\n",
    "\n",
    "df_new['Thu Nhập'] = df_new['Thu nhập (đơn vị triệu vnđ)']\n",
    "df_new = df_new.drop('Thu nhập (đơn vị triệu vnđ)', 1)\n",
    "\n",
    "df_new.index = df_new.index.set_names('No.')\n",
    "df_new.columns = ['Work status', 'Collateral' ,'Age','Marriage','Loan purpose','Sex','Income']"
   ]
  },
  {
   "cell_type": "code",
   "execution_count": 121,
   "metadata": {},
   "outputs": [],
   "source": [
    "# Áp dụng hàm coding cho các cột\n",
    "for j in range(len(df_new.columns)-2):\n",
    "    df_new[df_new.columns[j]] = code_data(df_new,df_new.columns[j])"
   ]
  },
  {
   "cell_type": "code",
   "execution_count": 122,
   "metadata": {},
   "outputs": [],
   "source": [
    "x_pred = np.array(df_new)"
   ]
  },
  {
   "cell_type": "markdown",
   "metadata": {},
   "source": [
    "# **Kiểm tra Correlation**"
   ]
  },
  {
   "cell_type": "code",
   "execution_count": 123,
   "metadata": {},
   "outputs": [],
   "source": [
    "df.Sex = df.Sex.astype('int')"
   ]
  },
  {
   "cell_type": "code",
   "execution_count": 124,
   "metadata": {},
   "outputs": [
    {
     "data": {
      "text/html": [
       "<div>\n",
       "<style scoped>\n",
       "    .dataframe tbody tr th:only-of-type {\n",
       "        vertical-align: middle;\n",
       "    }\n",
       "\n",
       "    .dataframe tbody tr th {\n",
       "        vertical-align: top;\n",
       "    }\n",
       "\n",
       "    .dataframe thead th {\n",
       "        text-align: right;\n",
       "    }\n",
       "</style>\n",
       "<table border=\"1\" class=\"dataframe\">\n",
       "  <thead>\n",
       "    <tr style=\"text-align: right;\">\n",
       "      <th></th>\n",
       "      <th>FeatureName</th>\n",
       "      <th>Pearson Correlation with target</th>\n",
       "    </tr>\n",
       "  </thead>\n",
       "  <tbody>\n",
       "    <tr>\n",
       "      <th>1</th>\n",
       "      <td>Collateral</td>\n",
       "      <td>0.775049</td>\n",
       "    </tr>\n",
       "    <tr>\n",
       "      <th>6</th>\n",
       "      <td>Income</td>\n",
       "      <td>0.647174</td>\n",
       "    </tr>\n",
       "    <tr>\n",
       "      <th>0</th>\n",
       "      <td>Work status</td>\n",
       "      <td>-0.623452</td>\n",
       "    </tr>\n",
       "    <tr>\n",
       "      <th>4</th>\n",
       "      <td>Loan purpose</td>\n",
       "      <td>0.612599</td>\n",
       "    </tr>\n",
       "    <tr>\n",
       "      <th>5</th>\n",
       "      <td>Sex</td>\n",
       "      <td>-0.396386</td>\n",
       "    </tr>\n",
       "    <tr>\n",
       "      <th>2</th>\n",
       "      <td>Age</td>\n",
       "      <td>0.299590</td>\n",
       "    </tr>\n",
       "    <tr>\n",
       "      <th>3</th>\n",
       "      <td>Marriage</td>\n",
       "      <td>-0.037576</td>\n",
       "    </tr>\n",
       "  </tbody>\n",
       "</table>\n",
       "</div>"
      ],
      "text/plain": [
       "    FeatureName  Pearson Correlation with target\n",
       "1    Collateral                         0.775049\n",
       "6        Income                         0.647174\n",
       "0   Work status                        -0.623452\n",
       "4  Loan purpose                         0.612599\n",
       "5           Sex                        -0.396386\n",
       "2           Age                         0.299590\n",
       "3      Marriage                        -0.037576"
      ]
     },
     "execution_count": 124,
     "metadata": {},
     "output_type": "execute_result"
    }
   ],
   "source": [
    "correlation = df.corr().iloc[1:,0].values\n",
    "column_selected = [x for x in df.columns if (x != 'Default')]\n",
    "\n",
    "features_importances_corr = pd.DataFrame({'FeatureName': df[column_selected].columns[0:len(df[column_selected])-1], 'Pearson Correlation with target': correlation})\n",
    "features_importances_corr.reindex(features_importances_corr['Pearson Correlation with target'].abs().sort_values(ascending=False).index)"
   ]
  },
  {
   "cell_type": "code",
   "execution_count": 125,
   "metadata": {},
   "outputs": [
    {
     "data": {
      "image/png": "[encoded data removed]",
      "text/plain": [
       "<Figure size 1080x576 with 1 Axes>"
      ]
     },
     "metadata": {
      "needs_background": "light"
     },
     "output_type": "display_data"
    }
   ],
   "source": [
    "# Visualization Pearson Correlation\n",
    "features_importances_corr.sort_values(by = ['Pearson Correlation with target']).plot(figsize=(15,8), x=\"FeatureName\", y = \"Pearson Correlation with target\", kind=\"barh\");"
   ]
  },
  {
   "cell_type": "markdown",
   "metadata": {},
   "source": [
    "# **Các mô hình dự báo**"
   ]
  },
  {
   "cell_type": "code",
   "execution_count": 126,
   "metadata": {},
   "outputs": [],
   "source": [
    "# Chia tệp huấn luyện và tệp kiểm tra\n",
    "n_state = 42\n",
    "x_train, x_test, y_train, y_test = train_test_split(x,y, train_size = 0.8, test_size = 0.2, random_state=n_state)"
   ]
  },
  {
   "cell_type": "markdown",
   "metadata": {},
   "source": [
    "# **Logistic regression**\n"
   ]
  },
  {
   "cell_type": "code",
   "execution_count": 127,
   "metadata": {},
   "outputs": [
    {
     "name": "stdout",
     "output_type": "stream",
     "text": [
      "Confusion matrix:\n",
      "[[19  1]\n",
      " [ 3 31]] \n",
      "\n",
      "Classification report:\n",
      "              precision    recall  f1-score   support\n",
      "\n",
      "           0       0.86      0.95      0.90        20\n",
      "           1       0.97      0.91      0.94        34\n",
      "\n",
      "    accuracy                           0.93        54\n",
      "   macro avg       0.92      0.93      0.92        54\n",
      "weighted avg       0.93      0.93      0.93        54\n",
      "\n",
      "Logistic Regression accuracy:  0.9259\n"
     ]
    }
   ],
   "source": [
    "# Xây dựng mô hình Logistic regression\n",
    "LR_classifier = LogisticRegression(multi_class='multinomial',random_state=n_state)\n",
    "\n",
    "# Đưa giá trị X_train và y_train vào mô hình Logistic regression\n",
    "LR_classifier.fit(x_train, y_train.ravel())\n",
    "\n",
    "# Dự báo giá trị biến phụ thuộc\n",
    "y_pred = LR_classifier.predict(x_test)\n",
    "\n",
    "print('Confusion matrix:')\n",
    "print(confusion_matrix(y_test,y_pred),'\\n')\n",
    "\n",
    "print('Classification report:')\n",
    "print(classification_report(y_test,y_pred))\n",
    "\n",
    "print('Logistic Regression accuracy: ', round(accuracy_score(y_test, y_pred),4))"
   ]
  },
  {
   "cell_type": "code",
   "execution_count": 128,
   "metadata": {},
   "outputs": [
    {
     "name": "stderr",
     "output_type": "stream",
     "text": [
      "c:\\Users\\ASUS\\AppData\\Local\\Programs\\Python\\Python39\\lib\\site-packages\\sklearn\\linear_model\\_logistic.py:444: ConvergenceWarning: lbfgs failed to converge (status=1):\n",
      "STOP: TOTAL NO. of ITERATIONS REACHED LIMIT.\n",
      "\n",
      "Increase the number of iterations (max_iter) or scale the data as shown in:\n",
      "    https://scikit-learn.org/stable/modules/preprocessing.html\n",
      "Please also refer to the documentation for alternative solver options:\n",
      "    https://scikit-learn.org/stable/modules/linear_model.html#logistic-regression\n",
      "  n_iter_i = _check_optimize_result(\n",
      "c:\\Users\\ASUS\\AppData\\Local\\Programs\\Python\\Python39\\lib\\site-packages\\sklearn\\linear_model\\_logistic.py:444: ConvergenceWarning: lbfgs failed to converge (status=1):\n",
      "STOP: TOTAL NO. of ITERATIONS REACHED LIMIT.\n",
      "\n",
      "Increase the number of iterations (max_iter) or scale the data as shown in:\n",
      "    https://scikit-learn.org/stable/modules/preprocessing.html\n",
      "Please also refer to the documentation for alternative solver options:\n",
      "    https://scikit-learn.org/stable/modules/linear_model.html#logistic-regression\n",
      "  n_iter_i = _check_optimize_result(\n"
     ]
    }
   ],
   "source": [
    "# Hiệu chỉnh mô hình\n",
    "accury_lr = 0\n",
    "threshold = 0\n",
    "for i in np.arange(0.1, 1.0, 0.05):\n",
    "    LR_classifier = LogisticRegression(multi_class='multinomial',penalty='l2', C=i,random_state=n_state)\n",
    "    LR_classifier.fit(x_train, y_train.ravel())\n",
    "    y_pred = LR_classifier.predict(x_test)\n",
    "    \n",
    "    # logic\n",
    "    accury_results = round(accuracy_score(y_test, y_pred),4)\n",
    "    if accury_results > accury_lr:\n",
    "        accury_lr = accury_results\n",
    "        threshold = i\n",
    "        threshold = round(threshold,2)"
   ]
  },
  {
   "cell_type": "code",
   "execution_count": 164,
   "metadata": {},
   "outputs": [
    {
     "name": "stdout",
     "output_type": "stream",
     "text": [
      "Với threshold = 0.55 thì mô hình Logistic Regression có accuracy = 0.9444\n"
     ]
    }
   ],
   "source": [
    "print(f'Với threshold = {threshold} thì mô hình Logistic Regression có accuracy = {accury_lr}')"
   ]
  },
  {
   "cell_type": "code",
   "execution_count": 130,
   "metadata": {},
   "outputs": [
    {
     "name": "stdout",
     "output_type": "stream",
     "text": [
      "Confusion matrix:\n",
      "[[20  0]\n",
      " [ 3 31]] \n",
      "\n",
      "Classification report:\n",
      "              precision    recall  f1-score   support\n",
      "\n",
      "           0       0.87      1.00      0.93        20\n",
      "           1       1.00      0.91      0.95        34\n",
      "\n",
      "    accuracy                           0.94        54\n",
      "   macro avg       0.93      0.96      0.94        54\n",
      "weighted avg       0.95      0.94      0.95        54\n",
      "\n",
      "Logistic Regression accuracy:  0.9444\n"
     ]
    }
   ],
   "source": [
    "# Xây dựng mô hình Logistic regression\n",
    "LR_classifier = LogisticRegression(multi_class='multinomial',penalty='l2', C=threshold,random_state=n_state)\n",
    "\n",
    "# Đưa giá trị X_train và y_train vào mô hình Logistic regression\n",
    "LR_classifier.fit(x_train, y_train.ravel())\n",
    "\n",
    "# Dự báo giá trị biến phụ thuộc\n",
    "y_pred = LR_classifier.predict(x_test)\n",
    "\n",
    "# In các thông số quan trọng\n",
    "\n",
    "# Ma trận bối rối\n",
    "print('Confusion matrix:')\n",
    "print(confusion_matrix(y_test,y_pred),'\\n')\n",
    "\n",
    "# Các chỉ số báo cáo\n",
    "print('Classification report:')\n",
    "print(classification_report(y_test,y_pred))\n",
    "\n",
    "# Tỉ lệ chính xác accuracy\n",
    "print('Logistic Regression accuracy: ', round(accuracy_score(y_test, y_pred),4))"
   ]
  },
  {
   "cell_type": "markdown",
   "metadata": {},
   "source": [
    "        Thay đổi threshold đã làm tăng accuracy từ 0.9259 tăng lên 0.9444"
   ]
  },
  {
   "cell_type": "code",
   "execution_count": 131,
   "metadata": {},
   "outputs": [
    {
     "data": {
      "image/png": "[encoded data removed]",
      "text/plain": [
       "<Figure size 720x576 with 1 Axes>"
      ]
     },
     "metadata": {
      "needs_background": "light"
     },
     "output_type": "display_data"
    }
   ],
   "source": [
    "# ROC\n",
    "y_pred_prob_test = LR_classifier.predict_proba(x_test)[:, 1]\n",
    "fpr, tpr, thres = roc_curve(y_test, y_pred_prob_test)\n",
    "roc_auc = auc(fpr, tpr)\n",
    "\n",
    "_plot_roc_curve(fpr, tpr, thres, roc_auc)"
   ]
  },
  {
   "cell_type": "code",
   "execution_count": 132,
   "metadata": {},
   "outputs": [
    {
     "data": {
      "text/html": [
       "<div>\n",
       "<style scoped>\n",
       "    .dataframe tbody tr th:only-of-type {\n",
       "        vertical-align: middle;\n",
       "    }\n",
       "\n",
       "    .dataframe tbody tr th {\n",
       "        vertical-align: top;\n",
       "    }\n",
       "\n",
       "    .dataframe thead th {\n",
       "        text-align: right;\n",
       "    }\n",
       "</style>\n",
       "<table border=\"1\" class=\"dataframe\">\n",
       "  <thead>\n",
       "    <tr style=\"text-align: right;\">\n",
       "      <th></th>\n",
       "      <th>FeatureName</th>\n",
       "      <th>Pearson Correlation with target</th>\n",
       "    </tr>\n",
       "  </thead>\n",
       "  <tbody>\n",
       "    <tr>\n",
       "      <th>1</th>\n",
       "      <td>Collateral</td>\n",
       "      <td>0.775049</td>\n",
       "    </tr>\n",
       "    <tr>\n",
       "      <th>6</th>\n",
       "      <td>Income</td>\n",
       "      <td>0.647174</td>\n",
       "    </tr>\n",
       "    <tr>\n",
       "      <th>0</th>\n",
       "      <td>Work status</td>\n",
       "      <td>-0.623452</td>\n",
       "    </tr>\n",
       "    <tr>\n",
       "      <th>4</th>\n",
       "      <td>Loan purpose</td>\n",
       "      <td>0.612599</td>\n",
       "    </tr>\n",
       "    <tr>\n",
       "      <th>5</th>\n",
       "      <td>Sex</td>\n",
       "      <td>-0.396386</td>\n",
       "    </tr>\n",
       "    <tr>\n",
       "      <th>2</th>\n",
       "      <td>Age</td>\n",
       "      <td>0.299590</td>\n",
       "    </tr>\n",
       "    <tr>\n",
       "      <th>3</th>\n",
       "      <td>Marriage</td>\n",
       "      <td>-0.037576</td>\n",
       "    </tr>\n",
       "  </tbody>\n",
       "</table>\n",
       "</div>"
      ],
      "text/plain": [
       "    FeatureName  Pearson Correlation with target\n",
       "1    Collateral                         0.775049\n",
       "6        Income                         0.647174\n",
       "0   Work status                        -0.623452\n",
       "4  Loan purpose                         0.612599\n",
       "5           Sex                        -0.396386\n",
       "2           Age                         0.299590\n",
       "3      Marriage                        -0.037576"
      ]
     },
     "execution_count": 132,
     "metadata": {},
     "output_type": "execute_result"
    }
   ],
   "source": [
    "correlation = df.corr().iloc[1:,0].values\n",
    "column_selected = [x for x in df.columns if (x != 'Default')]\n",
    "\n",
    "features_importances_corr = pd.DataFrame({'FeatureName': df[column_selected].columns[0:len(df[column_selected])-1], 'Pearson Correlation with target': correlation})\n",
    "features_importances_corr.reindex(features_importances_corr['Pearson Correlation with target'].abs().sort_values(ascending=False).index)"
   ]
  },
  {
   "cell_type": "code",
   "execution_count": 133,
   "metadata": {},
   "outputs": [
    {
     "data": {
      "image/png": "[encoded data removed]",
      "text/plain": [
       "<Figure size 1080x576 with 1 Axes>"
      ]
     },
     "metadata": {
      "needs_background": "light"
     },
     "output_type": "display_data"
    }
   ],
   "source": [
    "# # Visualization Pearson Correlation\n",
    "features_importances_corr.sort_values(by = ['Pearson Correlation with target']).plot(figsize=(15,8), x=\"FeatureName\", y = \"Pearson Correlation with target\", kind=\"barh\");"
   ]
  },
  {
   "cell_type": "markdown",
   "metadata": {},
   "source": [
    "**Dự báo Logistic Regression với bộ dữ liệu khách hàng mới**"
   ]
  },
  {
   "cell_type": "code",
   "execution_count": 134,
   "metadata": {},
   "outputs": [],
   "source": [
    "y_new = LR_classifier.predict(x_pred)\n",
    "y_new = pd.DataFrame(y_new.tolist(),index=df_new.index)\n",
    "y_new.columns = ['Default']\n",
    "\n",
    "lr_predict = pd.concat([y_new,df_new],axis=1)"
   ]
  },
  {
   "cell_type": "code",
   "execution_count": 135,
   "metadata": {},
   "outputs": [
    {
     "data": {
      "text/html": [
       "<div>\n",
       "<style scoped>\n",
       "    .dataframe tbody tr th:only-of-type {\n",
       "        vertical-align: middle;\n",
       "    }\n",
       "\n",
       "    .dataframe tbody tr th {\n",
       "        vertical-align: top;\n",
       "    }\n",
       "\n",
       "    .dataframe thead th {\n",
       "        text-align: right;\n",
       "    }\n",
       "</style>\n",
       "<table border=\"1\" class=\"dataframe\">\n",
       "  <thead>\n",
       "    <tr style=\"text-align: right;\">\n",
       "      <th></th>\n",
       "      <th>Default</th>\n",
       "      <th>Work status</th>\n",
       "      <th>Collateral</th>\n",
       "      <th>Age</th>\n",
       "      <th>Marriage</th>\n",
       "      <th>Loan purpose</th>\n",
       "      <th>Sex</th>\n",
       "      <th>Income</th>\n",
       "    </tr>\n",
       "    <tr>\n",
       "      <th>No.</th>\n",
       "      <th></th>\n",
       "      <th></th>\n",
       "      <th></th>\n",
       "      <th></th>\n",
       "      <th></th>\n",
       "      <th></th>\n",
       "      <th></th>\n",
       "      <th></th>\n",
       "    </tr>\n",
       "  </thead>\n",
       "  <tbody>\n",
       "    <tr>\n",
       "      <th>0</th>\n",
       "      <td>1</td>\n",
       "      <td>1</td>\n",
       "      <td>4</td>\n",
       "      <td>2</td>\n",
       "      <td>2</td>\n",
       "      <td>2</td>\n",
       "      <td>0</td>\n",
       "      <td>57</td>\n",
       "    </tr>\n",
       "    <tr>\n",
       "      <th>1</th>\n",
       "      <td>0</td>\n",
       "      <td>2</td>\n",
       "      <td>2</td>\n",
       "      <td>3</td>\n",
       "      <td>3</td>\n",
       "      <td>1</td>\n",
       "      <td>1</td>\n",
       "      <td>20</td>\n",
       "    </tr>\n",
       "    <tr>\n",
       "      <th>2</th>\n",
       "      <td>0</td>\n",
       "      <td>3</td>\n",
       "      <td>1</td>\n",
       "      <td>3</td>\n",
       "      <td>3</td>\n",
       "      <td>1</td>\n",
       "      <td>1</td>\n",
       "      <td>12</td>\n",
       "    </tr>\n",
       "    <tr>\n",
       "      <th>3</th>\n",
       "      <td>1</td>\n",
       "      <td>1</td>\n",
       "      <td>4</td>\n",
       "      <td>2</td>\n",
       "      <td>2</td>\n",
       "      <td>2</td>\n",
       "      <td>0</td>\n",
       "      <td>38</td>\n",
       "    </tr>\n",
       "    <tr>\n",
       "      <th>4</th>\n",
       "      <td>0</td>\n",
       "      <td>3</td>\n",
       "      <td>1</td>\n",
       "      <td>1</td>\n",
       "      <td>1</td>\n",
       "      <td>1</td>\n",
       "      <td>1</td>\n",
       "      <td>20</td>\n",
       "    </tr>\n",
       "  </tbody>\n",
       "</table>\n",
       "</div>"
      ],
      "text/plain": [
       "     Default  Work status  Collateral  Age  Marriage  Loan purpose  Sex  \\\n",
       "No.                                                                       \n",
       "0          1            1           4    2         2             2    0   \n",
       "1          0            2           2    3         3             1    1   \n",
       "2          0            3           1    3         3             1    1   \n",
       "3          1            1           4    2         2             2    0   \n",
       "4          0            3           1    1         1             1    1   \n",
       "\n",
       "     Income  \n",
       "No.          \n",
       "0        57  \n",
       "1        20  \n",
       "2        12  \n",
       "3        38  \n",
       "4        20  "
      ]
     },
     "execution_count": 135,
     "metadata": {},
     "output_type": "execute_result"
    }
   ],
   "source": [
    "lr_predict.head()"
   ]
  },
  {
   "cell_type": "markdown",
   "metadata": {},
   "source": [
    "# Cây quyết định."
   ]
  },
  {
   "cell_type": "code",
   "execution_count": 136,
   "metadata": {},
   "outputs": [
    {
     "name": "stdout",
     "output_type": "stream",
     "text": [
      "Confusion Matrix:\n",
      "[[17  3]\n",
      " [ 2 32]]\n",
      "\n",
      "Report model:\n",
      "              precision    recall  f1-score   support\n",
      "\n",
      "           0       0.89      0.85      0.87        20\n",
      "           1       0.91      0.94      0.93        34\n",
      "\n",
      "    accuracy                           0.91        54\n",
      "   macro avg       0.90      0.90      0.90        54\n",
      "weighted avg       0.91      0.91      0.91        54\n",
      "\n",
      "Decision Tree accuracy:  0.9074\n"
     ]
    }
   ],
   "source": [
    "# Xây dựng mô hình Decision Tree\n",
    "DT_classifier = DecisionTreeClassifier(random_state=n_state)\n",
    "# DT_classifier = DecisionTreeClassifier()\n",
    "DT_classifier.fit(x_train, y_train.ravel())\n",
    "\n",
    "# Dự báo giá trị biến phụ thuộc\n",
    "y_pred = DT_classifier.predict(x_test)\n",
    "\n",
    "# In các thông số quan trọng\n",
    "\n",
    "# Ma trận bối rối\n",
    "print(f'Confusion Matrix:\\n{confusion_matrix(y_test,y_pred)}\\n')\n",
    "\n",
    "# Báo cáo phân loại\n",
    "print(f'Report model:\\n{classification_report(y_test,y_pred)}')\n",
    "\n",
    "# Tỉ lệ chính xác accuracy\n",
    "print('Decision Tree accuracy: ', round(accuracy_score(y_test, y_pred),4))"
   ]
  },
  {
   "cell_type": "code",
   "execution_count": 137,
   "metadata": {},
   "outputs": [],
   "source": [
    "# Hiệu chỉnh mô hình\n",
    "accury_dt = 0\n",
    "depth = 0\n",
    "for i in range(1,50):\n",
    "    DT_classifier = DecisionTreeClassifier(max_depth=i,random_state=n_state)\n",
    "    DT_classifier.fit(x_train, y_train.ravel())\n",
    "    y_pred = DT_classifier.predict(x_test)\n",
    "    accury_results = round(accuracy_score(y_test, y_pred),4)\n",
    "    if accury_results > accury_dt:\n",
    "        accury_dt = accury_results\n",
    "        depth = i\n"
   ]
  },
  {
   "cell_type": "code",
   "execution_count": 138,
   "metadata": {},
   "outputs": [
    {
     "name": "stdout",
     "output_type": "stream",
     "text": [
      "Với max depth = 6 thì mô hình Decision Tree có accuracy = 0.9259\n"
     ]
    }
   ],
   "source": [
    "print(f'Với max depth = {depth} thì mô hình Decision Tree có accuracy = {accury_dt}')"
   ]
  },
  {
   "cell_type": "code",
   "execution_count": 139,
   "metadata": {},
   "outputs": [
    {
     "name": "stdout",
     "output_type": "stream",
     "text": [
      "Confusion Matrix:\n",
      "[[17  3]\n",
      " [ 1 33]]\n",
      "\n",
      "Report model:\n",
      "              precision    recall  f1-score   support\n",
      "\n",
      "           0       0.94      0.85      0.89        20\n",
      "           1       0.92      0.97      0.94        34\n",
      "\n",
      "    accuracy                           0.93        54\n",
      "   macro avg       0.93      0.91      0.92        54\n",
      "weighted avg       0.93      0.93      0.93        54\n",
      "\n",
      "Decision Tree accuracy:  0.9259\n"
     ]
    }
   ],
   "source": [
    "# Xây dựng mô hình Decision Tree\n",
    "DT_classifier = DecisionTreeClassifier(max_depth=depth, random_state=n_state)\n",
    "DT_classifier.fit(x_train, y_train.ravel())\n",
    "\n",
    "# Dự báo giá trị biến phụ thuộc\n",
    "y_pred = DT_classifier.predict(x_test)\n",
    "\n",
    "# In các thông số quan trọng\n",
    "\n",
    "# Ma trận bối rối\n",
    "print(f'Confusion Matrix:\\n{confusion_matrix(y_test,y_pred)}\\n')\n",
    "\n",
    "# Báo cáo phân loại\n",
    "print(f'Report model:\\n{classification_report(y_test,y_pred)}')\n",
    "\n",
    "# Tỉ lệ chính xác accuracy\n",
    "print('Decision Tree accuracy: ', round(accuracy_score(y_test, y_pred),4))"
   ]
  },
  {
   "cell_type": "code",
   "execution_count": 140,
   "metadata": {},
   "outputs": [],
   "source": [
    "# Tạo dataframe chứa kết quả dự báo và kết quả thực tế\n",
    "y_test_reshape = np.squeeze(y_test)\n",
    "\n",
    "pre_table = pd.DataFrame({'y_test': y_test_reshape,\n",
    "              'y_predict': y_pred})\n",
    "\n",
    "x_test_table = pd.DataFrame(x_test,columns=feature)\n",
    "\n",
    "x_test_table['y_test'] = pre_table['y_test']\n",
    "x_test_table['y_predict'] = pre_table['y_predict']"
   ]
  },
  {
   "cell_type": "code",
   "execution_count": 141,
   "metadata": {},
   "outputs": [
    {
     "data": {
      "text/html": [
       "<div>\n",
       "<style scoped>\n",
       "    .dataframe tbody tr th:only-of-type {\n",
       "        vertical-align: middle;\n",
       "    }\n",
       "\n",
       "    .dataframe tbody tr th {\n",
       "        vertical-align: top;\n",
       "    }\n",
       "\n",
       "    .dataframe thead th {\n",
       "        text-align: right;\n",
       "    }\n",
       "</style>\n",
       "<table border=\"1\" class=\"dataframe\">\n",
       "  <thead>\n",
       "    <tr style=\"text-align: right;\">\n",
       "      <th></th>\n",
       "      <th>Work status</th>\n",
       "      <th>Collateral</th>\n",
       "      <th>Age</th>\n",
       "      <th>Marriage</th>\n",
       "      <th>Loan purpose</th>\n",
       "      <th>Sex</th>\n",
       "      <th>Income</th>\n",
       "      <th>y_test</th>\n",
       "      <th>y_predict</th>\n",
       "    </tr>\n",
       "  </thead>\n",
       "  <tbody>\n",
       "    <tr>\n",
       "      <th>0</th>\n",
       "      <td>1</td>\n",
       "      <td>4</td>\n",
       "      <td>2</td>\n",
       "      <td>1</td>\n",
       "      <td>2</td>\n",
       "      <td>0</td>\n",
       "      <td>31</td>\n",
       "      <td>1</td>\n",
       "      <td>1</td>\n",
       "    </tr>\n",
       "    <tr>\n",
       "      <th>1</th>\n",
       "      <td>1</td>\n",
       "      <td>4</td>\n",
       "      <td>2</td>\n",
       "      <td>2</td>\n",
       "      <td>1</td>\n",
       "      <td>0</td>\n",
       "      <td>33</td>\n",
       "      <td>1</td>\n",
       "      <td>1</td>\n",
       "    </tr>\n",
       "    <tr>\n",
       "      <th>2</th>\n",
       "      <td>3</td>\n",
       "      <td>1</td>\n",
       "      <td>1</td>\n",
       "      <td>1</td>\n",
       "      <td>1</td>\n",
       "      <td>1</td>\n",
       "      <td>18</td>\n",
       "      <td>0</td>\n",
       "      <td>0</td>\n",
       "    </tr>\n",
       "    <tr>\n",
       "      <th>3</th>\n",
       "      <td>3</td>\n",
       "      <td>1</td>\n",
       "      <td>1</td>\n",
       "      <td>3</td>\n",
       "      <td>1</td>\n",
       "      <td>1</td>\n",
       "      <td>14</td>\n",
       "      <td>0</td>\n",
       "      <td>0</td>\n",
       "    </tr>\n",
       "    <tr>\n",
       "      <th>4</th>\n",
       "      <td>2</td>\n",
       "      <td>1</td>\n",
       "      <td>1</td>\n",
       "      <td>3</td>\n",
       "      <td>1</td>\n",
       "      <td>1</td>\n",
       "      <td>16</td>\n",
       "      <td>0</td>\n",
       "      <td>0</td>\n",
       "    </tr>\n",
       "  </tbody>\n",
       "</table>\n",
       "</div>"
      ],
      "text/plain": [
       "  Work status Collateral Age Marriage Loan purpose Sex Income  y_test  \\\n",
       "0           1          4   2        1            2   0     31       1   \n",
       "1           1          4   2        2            1   0     33       1   \n",
       "2           3          1   1        1            1   1     18       0   \n",
       "3           3          1   1        3            1   1     14       0   \n",
       "4           2          1   1        3            1   1     16       0   \n",
       "\n",
       "   y_predict  \n",
       "0          1  \n",
       "1          1  \n",
       "2          0  \n",
       "3          0  \n",
       "4          0  "
      ]
     },
     "execution_count": 141,
     "metadata": {},
     "output_type": "execute_result"
    }
   ],
   "source": [
    "x_test_table.head()"
   ]
  },
  {
   "cell_type": "code",
   "execution_count": 142,
   "metadata": {},
   "outputs": [],
   "source": [
    "# In ra các vị trí dự báo sai\n",
    "wrong_list = []\n",
    "wrong_list_index = []\n",
    "\n",
    "for i in range(len(x_test_table)):\n",
    "    if x_test_table.iloc[i][7] != x_test_table.iloc[i][8]:\n",
    "        wrong_list.append(x_test_table.iloc[i][:7].tolist())\n",
    "\n",
    "for k in range(len(wrong_list)):\n",
    "    for j in range(len(df)):\n",
    "        if wrong_list[k] == df.iloc[j][1:].tolist():\n",
    "            # print(f'Vị trí mô hình dự báo sai: {j}') \n",
    "            wrong_list_index.append(j)"
   ]
  },
  {
   "cell_type": "code",
   "execution_count": 143,
   "metadata": {},
   "outputs": [
    {
     "name": "stdout",
     "output_type": "stream",
     "text": [
      "Vị trí mô hình dự báo sai ở dòng thứ 25:\n",
      "Default          1\n",
      "Work status      2\n",
      "Collateral       2\n",
      "Age              1\n",
      "Marriage         2\n",
      "Loan purpose     2\n",
      "Sex              0\n",
      "Income          29\n",
      "Name: 25, dtype: int64\n",
      "\n",
      "Vị trí mô hình dự báo sai ở dòng thứ 209:\n",
      "Default          0\n",
      "Work status      1\n",
      "Collateral       1\n",
      "Age              1\n",
      "Marriage         3\n",
      "Loan purpose     1\n",
      "Sex              0\n",
      "Income          17\n",
      "Name: 209, dtype: int64\n",
      "\n",
      "Vị trí mô hình dự báo sai ở dòng thứ 227:\n",
      "Default          0\n",
      "Work status      2\n",
      "Collateral       1\n",
      "Age              3\n",
      "Marriage         2\n",
      "Loan purpose     1\n",
      "Sex              0\n",
      "Income          12\n",
      "Name: 227, dtype: int64\n",
      "\n",
      "Vị trí mô hình dự báo sai ở dòng thứ 245:\n",
      "Default          0\n",
      "Work status      3\n",
      "Collateral       1\n",
      "Age              2\n",
      "Marriage         3\n",
      "Loan purpose     1\n",
      "Sex              0\n",
      "Income          37\n",
      "Name: 245, dtype: int64\n",
      "\n"
     ]
    }
   ],
   "source": [
    "wrong_list_index = sorted(wrong_list_index)\n",
    "for w in wrong_list_index:\n",
    "    print(f'Vị trí mô hình dự báo sai ở dòng thứ {w+1}:\\n{df.iloc[w]}\\n')"
   ]
  },
  {
   "cell_type": "markdown",
   "metadata": {},
   "source": [
    "=> Sai ba thuộc tính sẽ đưa ra sai kết quả"
   ]
  },
  {
   "cell_type": "code",
   "execution_count": 144,
   "metadata": {},
   "outputs": [],
   "source": [
    "# text_representation = tree.export_text(DT_classifier,feature_names=feature)\n",
    "# print(text_representation)"
   ]
  },
  {
   "cell_type": "code",
   "execution_count": 145,
   "metadata": {},
   "outputs": [
    {
     "name": "stdout",
     "output_type": "stream",
     "text": [
      "Note: Class 0 is late-payment and class 1 is on-time-payment\n"
     ]
    },
    {
     "data": {
      "image/png": "[encoded data removed]",
      "text/plain": [
       "<Figure size 1800x1440 with 1 Axes>"
      ]
     },
     "metadata": {
      "needs_background": "light"
     },
     "output_type": "display_data"
    }
   ],
   "source": [
    "# Trực quan hóa cây \n",
    "print('Note: Class 0 is late-payment and class 1 is on-time-payment')\n",
    "fig = plt.figure(figsize=(25,20))\n",
    "_ = tree.plot_tree(DT_classifier, \n",
    "                   feature_names=feature,  \n",
    "                   class_names=['Lated','On-time'],\n",
    "                   filled=True)"
   ]
  },
  {
   "cell_type": "code",
   "execution_count": 146,
   "metadata": {},
   "outputs": [
    {
     "data": {
      "text/html": [
       "<div>\n",
       "<style scoped>\n",
       "    .dataframe tbody tr th:only-of-type {\n",
       "        vertical-align: middle;\n",
       "    }\n",
       "\n",
       "    .dataframe tbody tr th {\n",
       "        vertical-align: top;\n",
       "    }\n",
       "\n",
       "    .dataframe thead th {\n",
       "        text-align: right;\n",
       "    }\n",
       "</style>\n",
       "<table border=\"1\" class=\"dataframe\">\n",
       "  <thead>\n",
       "    <tr style=\"text-align: right;\">\n",
       "      <th></th>\n",
       "      <th>FeatureName</th>\n",
       "      <th>Decision Tree Feature Importance</th>\n",
       "    </tr>\n",
       "  </thead>\n",
       "  <tbody>\n",
       "    <tr>\n",
       "      <th>1</th>\n",
       "      <td>Collateral</td>\n",
       "      <td>0.668919</td>\n",
       "    </tr>\n",
       "    <tr>\n",
       "      <th>6</th>\n",
       "      <td>Income</td>\n",
       "      <td>0.162360</td>\n",
       "    </tr>\n",
       "    <tr>\n",
       "      <th>0</th>\n",
       "      <td>Work status</td>\n",
       "      <td>0.076496</td>\n",
       "    </tr>\n",
       "    <tr>\n",
       "      <th>3</th>\n",
       "      <td>Marriage</td>\n",
       "      <td>0.046557</td>\n",
       "    </tr>\n",
       "    <tr>\n",
       "      <th>2</th>\n",
       "      <td>Age</td>\n",
       "      <td>0.022933</td>\n",
       "    </tr>\n",
       "    <tr>\n",
       "      <th>5</th>\n",
       "      <td>Sex</td>\n",
       "      <td>0.015043</td>\n",
       "    </tr>\n",
       "    <tr>\n",
       "      <th>4</th>\n",
       "      <td>Loan purpose</td>\n",
       "      <td>0.007692</td>\n",
       "    </tr>\n",
       "  </tbody>\n",
       "</table>\n",
       "</div>"
      ],
      "text/plain": [
       "    FeatureName  Decision Tree Feature Importance\n",
       "1    Collateral                          0.668919\n",
       "6        Income                          0.162360\n",
       "0   Work status                          0.076496\n",
       "3      Marriage                          0.046557\n",
       "2           Age                          0.022933\n",
       "5           Sex                          0.015043\n",
       "4  Loan purpose                          0.007692"
      ]
     },
     "execution_count": 146,
     "metadata": {},
     "output_type": "execute_result"
    }
   ],
   "source": [
    "# Các biến quan trọng\n",
    "importance_dt = DT_classifier.feature_importances_\n",
    "features_importances_dt = pd.DataFrame({'FeatureName': df.columns[1:len(df.columns)], 'Decision Tree Feature Importance': importance_dt})\n",
    "features_importances_dt.sort_values(by=['Decision Tree Feature Importance'], ascending=False)"
   ]
  },
  {
   "cell_type": "code",
   "execution_count": 147,
   "metadata": {},
   "outputs": [
    {
     "data": {
      "image/png": "[encoded data removed]",
      "text/plain": [
       "<Figure size 1080x576 with 1 Axes>"
      ]
     },
     "metadata": {
      "needs_background": "light"
     },
     "output_type": "display_data"
    }
   ],
   "source": [
    "# Trực quan hóa các biến quan trọng\n",
    "features_importances_dt.sort_values(\"Decision Tree Feature Importance\").plot(figsize=(15,8), x=\"FeatureName\", y=[\"Decision Tree Feature Importance\"], kind=\"barh\");"
   ]
  },
  {
   "cell_type": "code",
   "execution_count": 148,
   "metadata": {},
   "outputs": [
    {
     "data": {
      "image/png": "[encoded data removed]",
      "text/plain": [
       "<Figure size 720x576 with 1 Axes>"
      ]
     },
     "metadata": {
      "needs_background": "light"
     },
     "output_type": "display_data"
    }
   ],
   "source": [
    "# ROC\n",
    "y_pred_prob_test = DT_classifier.predict_proba(x_test)[:, 1]\n",
    "fpr, tpr, thres = roc_curve(y_test, y_pred_prob_test)\n",
    "roc_auc = auc(fpr, tpr)\n",
    "\n",
    "_plot_roc_curve(fpr, tpr, thres, roc_auc)"
   ]
  },
  {
   "cell_type": "markdown",
   "metadata": {},
   "source": [
    "**Dự báo Decision Tree với bộ dữ liệu khách hàng mới**"
   ]
  },
  {
   "cell_type": "code",
   "execution_count": 149,
   "metadata": {},
   "outputs": [],
   "source": [
    "y_dt_new = DT_classifier.predict(x_pred)\n",
    "y_dt_new = pd.DataFrame(y_dt_new.tolist(),index=df_new.index)\n",
    "y_dt_new.columns = ['Default']\n",
    "\n",
    "dt_predict = pd.concat([y_dt_new,df_new],axis=1)"
   ]
  },
  {
   "cell_type": "code",
   "execution_count": 150,
   "metadata": {},
   "outputs": [
    {
     "data": {
      "text/html": [
       "<div>\n",
       "<style scoped>\n",
       "    .dataframe tbody tr th:only-of-type {\n",
       "        vertical-align: middle;\n",
       "    }\n",
       "\n",
       "    .dataframe tbody tr th {\n",
       "        vertical-align: top;\n",
       "    }\n",
       "\n",
       "    .dataframe thead th {\n",
       "        text-align: right;\n",
       "    }\n",
       "</style>\n",
       "<table border=\"1\" class=\"dataframe\">\n",
       "  <thead>\n",
       "    <tr style=\"text-align: right;\">\n",
       "      <th></th>\n",
       "      <th>Default</th>\n",
       "      <th>Work status</th>\n",
       "      <th>Collateral</th>\n",
       "      <th>Age</th>\n",
       "      <th>Marriage</th>\n",
       "      <th>Loan purpose</th>\n",
       "      <th>Sex</th>\n",
       "      <th>Income</th>\n",
       "    </tr>\n",
       "    <tr>\n",
       "      <th>No.</th>\n",
       "      <th></th>\n",
       "      <th></th>\n",
       "      <th></th>\n",
       "      <th></th>\n",
       "      <th></th>\n",
       "      <th></th>\n",
       "      <th></th>\n",
       "      <th></th>\n",
       "    </tr>\n",
       "  </thead>\n",
       "  <tbody>\n",
       "    <tr>\n",
       "      <th>0</th>\n",
       "      <td>1</td>\n",
       "      <td>1</td>\n",
       "      <td>4</td>\n",
       "      <td>2</td>\n",
       "      <td>2</td>\n",
       "      <td>2</td>\n",
       "      <td>0</td>\n",
       "      <td>57</td>\n",
       "    </tr>\n",
       "    <tr>\n",
       "      <th>1</th>\n",
       "      <td>0</td>\n",
       "      <td>2</td>\n",
       "      <td>2</td>\n",
       "      <td>3</td>\n",
       "      <td>3</td>\n",
       "      <td>1</td>\n",
       "      <td>1</td>\n",
       "      <td>20</td>\n",
       "    </tr>\n",
       "    <tr>\n",
       "      <th>2</th>\n",
       "      <td>0</td>\n",
       "      <td>3</td>\n",
       "      <td>1</td>\n",
       "      <td>3</td>\n",
       "      <td>3</td>\n",
       "      <td>1</td>\n",
       "      <td>1</td>\n",
       "      <td>12</td>\n",
       "    </tr>\n",
       "    <tr>\n",
       "      <th>3</th>\n",
       "      <td>1</td>\n",
       "      <td>1</td>\n",
       "      <td>4</td>\n",
       "      <td>2</td>\n",
       "      <td>2</td>\n",
       "      <td>2</td>\n",
       "      <td>0</td>\n",
       "      <td>38</td>\n",
       "    </tr>\n",
       "    <tr>\n",
       "      <th>4</th>\n",
       "      <td>0</td>\n",
       "      <td>3</td>\n",
       "      <td>1</td>\n",
       "      <td>1</td>\n",
       "      <td>1</td>\n",
       "      <td>1</td>\n",
       "      <td>1</td>\n",
       "      <td>20</td>\n",
       "    </tr>\n",
       "  </tbody>\n",
       "</table>\n",
       "</div>"
      ],
      "text/plain": [
       "     Default  Work status  Collateral  Age  Marriage  Loan purpose  Sex  \\\n",
       "No.                                                                       \n",
       "0          1            1           4    2         2             2    0   \n",
       "1          0            2           2    3         3             1    1   \n",
       "2          0            3           1    3         3             1    1   \n",
       "3          1            1           4    2         2             2    0   \n",
       "4          0            3           1    1         1             1    1   \n",
       "\n",
       "     Income  \n",
       "No.          \n",
       "0        57  \n",
       "1        20  \n",
       "2        12  \n",
       "3        38  \n",
       "4        20  "
      ]
     },
     "execution_count": 150,
     "metadata": {},
     "output_type": "execute_result"
    }
   ],
   "source": [
    "dt_predict.head()"
   ]
  },
  {
   "cell_type": "markdown",
   "metadata": {},
   "source": [
    "# **Rừng ngẫu nhiên**"
   ]
  },
  {
   "cell_type": "code",
   "execution_count": 151,
   "metadata": {},
   "outputs": [
    {
     "name": "stdout",
     "output_type": "stream",
     "text": [
      "Confusion Matrix:\n",
      "[[20  0]\n",
      " [ 2 32]]\n",
      "\n",
      "Report model:\n",
      "              precision    recall  f1-score   support\n",
      "\n",
      "           0       0.91      1.00      0.95        20\n",
      "           1       1.00      0.94      0.97        34\n",
      "\n",
      "    accuracy                           0.96        54\n",
      "   macro avg       0.95      0.97      0.96        54\n",
      "weighted avg       0.97      0.96      0.96        54\n",
      "\n",
      "Random Forest accuracy:  0.963\n"
     ]
    }
   ],
   "source": [
    "# Xây dựng mô hình Random Forest\n",
    "RF_classifier = RandomForestClassifier(random_state=n_state)\n",
    "RF_classifier.fit(x_train, y_train.ravel())\n",
    "\n",
    "# Dự báo giá trị biến phụ thuộc\n",
    "y_pred = RF_classifier.predict(x_test)\n",
    "\n",
    "# Ma trận bối rối\n",
    "print(f'Confusion Matrix:\\n{confusion_matrix(y_test,y_pred)}\\n')\n",
    "\n",
    "# Báo cáo phân loại\n",
    "print(f'Report model:\\n{classification_report(y_test,y_pred)}')\n",
    "\n",
    "# Tỉ lệ chính xác accuracy\n",
    "print('Random Forest accuracy: ', round(accuracy_score(y_test, y_pred),4))"
   ]
  },
  {
   "cell_type": "code",
   "execution_count": 152,
   "metadata": {},
   "outputs": [
    {
     "name": "stderr",
     "output_type": "stream",
     "text": [
      "c:\\Users\\ASUS\\AppData\\Local\\Programs\\Python\\Python39\\lib\\site-packages\\sklearn\\ensemble\\_forest.py:427: FutureWarning: `max_features='auto'` has been deprecated in 1.1 and will be removed in 1.3. To keep the past behaviour, explicitly set `max_features='sqrt'` or remove this parameter as it is also the default value for RandomForestClassifiers and ExtraTreesClassifiers.\n",
      "  warn(\n",
      "c:\\Users\\ASUS\\AppData\\Local\\Programs\\Python\\Python39\\lib\\site-packages\\sklearn\\ensemble\\_forest.py:427: FutureWarning: `max_features='auto'` has been deprecated in 1.1 and will be removed in 1.3. To keep the past behaviour, explicitly set `max_features='sqrt'` or remove this parameter as it is also the default value for RandomForestClassifiers and ExtraTreesClassifiers.\n",
      "  warn(\n",
      "c:\\Users\\ASUS\\AppData\\Local\\Programs\\Python\\Python39\\lib\\site-packages\\sklearn\\ensemble\\_forest.py:427: FutureWarning: `max_features='auto'` has been deprecated in 1.1 and will be removed in 1.3. To keep the past behaviour, explicitly set `max_features='sqrt'` or remove this parameter as it is also the default value for RandomForestClassifiers and ExtraTreesClassifiers.\n",
      "  warn(\n",
      "c:\\Users\\ASUS\\AppData\\Local\\Programs\\Python\\Python39\\lib\\site-packages\\sklearn\\ensemble\\_forest.py:427: FutureWarning: `max_features='auto'` has been deprecated in 1.1 and will be removed in 1.3. To keep the past behaviour, explicitly set `max_features='sqrt'` or remove this parameter as it is also the default value for RandomForestClassifiers and ExtraTreesClassifiers.\n",
      "  warn(\n",
      "c:\\Users\\ASUS\\AppData\\Local\\Programs\\Python\\Python39\\lib\\site-packages\\sklearn\\ensemble\\_forest.py:427: FutureWarning: `max_features='auto'` has been deprecated in 1.1 and will be removed in 1.3. To keep the past behaviour, explicitly set `max_features='sqrt'` or remove this parameter as it is also the default value for RandomForestClassifiers and ExtraTreesClassifiers.\n",
      "  warn(\n",
      "c:\\Users\\ASUS\\AppData\\Local\\Programs\\Python\\Python39\\lib\\site-packages\\sklearn\\ensemble\\_forest.py:427: FutureWarning: `max_features='auto'` has been deprecated in 1.1 and will be removed in 1.3. To keep the past behaviour, explicitly set `max_features='sqrt'` or remove this parameter as it is also the default value for RandomForestClassifiers and ExtraTreesClassifiers.\n",
      "  warn(\n",
      "c:\\Users\\ASUS\\AppData\\Local\\Programs\\Python\\Python39\\lib\\site-packages\\sklearn\\ensemble\\_forest.py:427: FutureWarning: `max_features='auto'` has been deprecated in 1.1 and will be removed in 1.3. To keep the past behaviour, explicitly set `max_features='sqrt'` or remove this parameter as it is also the default value for RandomForestClassifiers and ExtraTreesClassifiers.\n",
      "  warn(\n",
      "c:\\Users\\ASUS\\AppData\\Local\\Programs\\Python\\Python39\\lib\\site-packages\\sklearn\\ensemble\\_forest.py:427: FutureWarning: `max_features='auto'` has been deprecated in 1.1 and will be removed in 1.3. To keep the past behaviour, explicitly set `max_features='sqrt'` or remove this parameter as it is also the default value for RandomForestClassifiers and ExtraTreesClassifiers.\n",
      "  warn(\n",
      "c:\\Users\\ASUS\\AppData\\Local\\Programs\\Python\\Python39\\lib\\site-packages\\sklearn\\ensemble\\_forest.py:427: FutureWarning: `max_features='auto'` has been deprecated in 1.1 and will be removed in 1.3. To keep the past behaviour, explicitly set `max_features='sqrt'` or remove this parameter as it is also the default value for RandomForestClassifiers and ExtraTreesClassifiers.\n",
      "  warn(\n",
      "c:\\Users\\ASUS\\AppData\\Local\\Programs\\Python\\Python39\\lib\\site-packages\\sklearn\\ensemble\\_forest.py:427: FutureWarning: `max_features='auto'` has been deprecated in 1.1 and will be removed in 1.3. To keep the past behaviour, explicitly set `max_features='sqrt'` or remove this parameter as it is also the default value for RandomForestClassifiers and ExtraTreesClassifiers.\n",
      "  warn(\n",
      "c:\\Users\\ASUS\\AppData\\Local\\Programs\\Python\\Python39\\lib\\site-packages\\sklearn\\ensemble\\_forest.py:427: FutureWarning: `max_features='auto'` has been deprecated in 1.1 and will be removed in 1.3. To keep the past behaviour, explicitly set `max_features='sqrt'` or remove this parameter as it is also the default value for RandomForestClassifiers and ExtraTreesClassifiers.\n",
      "  warn(\n",
      "c:\\Users\\ASUS\\AppData\\Local\\Programs\\Python\\Python39\\lib\\site-packages\\sklearn\\ensemble\\_forest.py:427: FutureWarning: `max_features='auto'` has been deprecated in 1.1 and will be removed in 1.3. To keep the past behaviour, explicitly set `max_features='sqrt'` or remove this parameter as it is also the default value for RandomForestClassifiers and ExtraTreesClassifiers.\n",
      "  warn(\n",
      "c:\\Users\\ASUS\\AppData\\Local\\Programs\\Python\\Python39\\lib\\site-packages\\sklearn\\ensemble\\_forest.py:427: FutureWarning: `max_features='auto'` has been deprecated in 1.1 and will be removed in 1.3. To keep the past behaviour, explicitly set `max_features='sqrt'` or remove this parameter as it is also the default value for RandomForestClassifiers and ExtraTreesClassifiers.\n",
      "  warn(\n",
      "c:\\Users\\ASUS\\AppData\\Local\\Programs\\Python\\Python39\\lib\\site-packages\\sklearn\\ensemble\\_forest.py:427: FutureWarning: `max_features='auto'` has been deprecated in 1.1 and will be removed in 1.3. To keep the past behaviour, explicitly set `max_features='sqrt'` or remove this parameter as it is also the default value for RandomForestClassifiers and ExtraTreesClassifiers.\n",
      "  warn(\n",
      "c:\\Users\\ASUS\\AppData\\Local\\Programs\\Python\\Python39\\lib\\site-packages\\sklearn\\ensemble\\_forest.py:427: FutureWarning: `max_features='auto'` has been deprecated in 1.1 and will be removed in 1.3. To keep the past behaviour, explicitly set `max_features='sqrt'` or remove this parameter as it is also the default value for RandomForestClassifiers and ExtraTreesClassifiers.\n",
      "  warn(\n",
      "c:\\Users\\ASUS\\AppData\\Local\\Programs\\Python\\Python39\\lib\\site-packages\\sklearn\\ensemble\\_forest.py:427: FutureWarning: `max_features='auto'` has been deprecated in 1.1 and will be removed in 1.3. To keep the past behaviour, explicitly set `max_features='sqrt'` or remove this parameter as it is also the default value for RandomForestClassifiers and ExtraTreesClassifiers.\n",
      "  warn(\n",
      "c:\\Users\\ASUS\\AppData\\Local\\Programs\\Python\\Python39\\lib\\site-packages\\sklearn\\ensemble\\_forest.py:427: FutureWarning: `max_features='auto'` has been deprecated in 1.1 and will be removed in 1.3. To keep the past behaviour, explicitly set `max_features='sqrt'` or remove this parameter as it is also the default value for RandomForestClassifiers and ExtraTreesClassifiers.\n",
      "  warn(\n",
      "c:\\Users\\ASUS\\AppData\\Local\\Programs\\Python\\Python39\\lib\\site-packages\\sklearn\\ensemble\\_forest.py:427: FutureWarning: `max_features='auto'` has been deprecated in 1.1 and will be removed in 1.3. To keep the past behaviour, explicitly set `max_features='sqrt'` or remove this parameter as it is also the default value for RandomForestClassifiers and ExtraTreesClassifiers.\n",
      "  warn(\n",
      "c:\\Users\\ASUS\\AppData\\Local\\Programs\\Python\\Python39\\lib\\site-packages\\sklearn\\ensemble\\_forest.py:427: FutureWarning: `max_features='auto'` has been deprecated in 1.1 and will be removed in 1.3. To keep the past behaviour, explicitly set `max_features='sqrt'` or remove this parameter as it is also the default value for RandomForestClassifiers and ExtraTreesClassifiers.\n",
      "  warn(\n",
      "c:\\Users\\ASUS\\AppData\\Local\\Programs\\Python\\Python39\\lib\\site-packages\\sklearn\\ensemble\\_forest.py:427: FutureWarning: `max_features='auto'` has been deprecated in 1.1 and will be removed in 1.3. To keep the past behaviour, explicitly set `max_features='sqrt'` or remove this parameter as it is also the default value for RandomForestClassifiers and ExtraTreesClassifiers.\n",
      "  warn(\n",
      "c:\\Users\\ASUS\\AppData\\Local\\Programs\\Python\\Python39\\lib\\site-packages\\sklearn\\ensemble\\_forest.py:427: FutureWarning: `max_features='auto'` has been deprecated in 1.1 and will be removed in 1.3. To keep the past behaviour, explicitly set `max_features='sqrt'` or remove this parameter as it is also the default value for RandomForestClassifiers and ExtraTreesClassifiers.\n",
      "  warn(\n",
      "c:\\Users\\ASUS\\AppData\\Local\\Programs\\Python\\Python39\\lib\\site-packages\\sklearn\\ensemble\\_forest.py:427: FutureWarning: `max_features='auto'` has been deprecated in 1.1 and will be removed in 1.3. To keep the past behaviour, explicitly set `max_features='sqrt'` or remove this parameter as it is also the default value for RandomForestClassifiers and ExtraTreesClassifiers.\n",
      "  warn(\n",
      "c:\\Users\\ASUS\\AppData\\Local\\Programs\\Python\\Python39\\lib\\site-packages\\sklearn\\ensemble\\_forest.py:427: FutureWarning: `max_features='auto'` has been deprecated in 1.1 and will be removed in 1.3. To keep the past behaviour, explicitly set `max_features='sqrt'` or remove this parameter as it is also the default value for RandomForestClassifiers and ExtraTreesClassifiers.\n",
      "  warn(\n",
      "c:\\Users\\ASUS\\AppData\\Local\\Programs\\Python\\Python39\\lib\\site-packages\\sklearn\\ensemble\\_forest.py:427: FutureWarning: `max_features='auto'` has been deprecated in 1.1 and will be removed in 1.3. To keep the past behaviour, explicitly set `max_features='sqrt'` or remove this parameter as it is also the default value for RandomForestClassifiers and ExtraTreesClassifiers.\n",
      "  warn(\n",
      "c:\\Users\\ASUS\\AppData\\Local\\Programs\\Python\\Python39\\lib\\site-packages\\sklearn\\ensemble\\_forest.py:427: FutureWarning: `max_features='auto'` has been deprecated in 1.1 and will be removed in 1.3. To keep the past behaviour, explicitly set `max_features='sqrt'` or remove this parameter as it is also the default value for RandomForestClassifiers and ExtraTreesClassifiers.\n",
      "  warn(\n",
      "c:\\Users\\ASUS\\AppData\\Local\\Programs\\Python\\Python39\\lib\\site-packages\\sklearn\\ensemble\\_forest.py:427: FutureWarning: `max_features='auto'` has been deprecated in 1.1 and will be removed in 1.3. To keep the past behaviour, explicitly set `max_features='sqrt'` or remove this parameter as it is also the default value for RandomForestClassifiers and ExtraTreesClassifiers.\n",
      "  warn(\n",
      "c:\\Users\\ASUS\\AppData\\Local\\Programs\\Python\\Python39\\lib\\site-packages\\sklearn\\ensemble\\_forest.py:427: FutureWarning: `max_features='auto'` has been deprecated in 1.1 and will be removed in 1.3. To keep the past behaviour, explicitly set `max_features='sqrt'` or remove this parameter as it is also the default value for RandomForestClassifiers and ExtraTreesClassifiers.\n",
      "  warn(\n",
      "c:\\Users\\ASUS\\AppData\\Local\\Programs\\Python\\Python39\\lib\\site-packages\\sklearn\\ensemble\\_forest.py:427: FutureWarning: `max_features='auto'` has been deprecated in 1.1 and will be removed in 1.3. To keep the past behaviour, explicitly set `max_features='sqrt'` or remove this parameter as it is also the default value for RandomForestClassifiers and ExtraTreesClassifiers.\n",
      "  warn(\n",
      "c:\\Users\\ASUS\\AppData\\Local\\Programs\\Python\\Python39\\lib\\site-packages\\sklearn\\ensemble\\_forest.py:427: FutureWarning: `max_features='auto'` has been deprecated in 1.1 and will be removed in 1.3. To keep the past behaviour, explicitly set `max_features='sqrt'` or remove this parameter as it is also the default value for RandomForestClassifiers and ExtraTreesClassifiers.\n",
      "  warn(\n",
      "c:\\Users\\ASUS\\AppData\\Local\\Programs\\Python\\Python39\\lib\\site-packages\\sklearn\\ensemble\\_forest.py:427: FutureWarning: `max_features='auto'` has been deprecated in 1.1 and will be removed in 1.3. To keep the past behaviour, explicitly set `max_features='sqrt'` or remove this parameter as it is also the default value for RandomForestClassifiers and ExtraTreesClassifiers.\n",
      "  warn(\n",
      "c:\\Users\\ASUS\\AppData\\Local\\Programs\\Python\\Python39\\lib\\site-packages\\sklearn\\ensemble\\_forest.py:427: FutureWarning: `max_features='auto'` has been deprecated in 1.1 and will be removed in 1.3. To keep the past behaviour, explicitly set `max_features='sqrt'` or remove this parameter as it is also the default value for RandomForestClassifiers and ExtraTreesClassifiers.\n",
      "  warn(\n",
      "c:\\Users\\ASUS\\AppData\\Local\\Programs\\Python\\Python39\\lib\\site-packages\\sklearn\\ensemble\\_forest.py:427: FutureWarning: `max_features='auto'` has been deprecated in 1.1 and will be removed in 1.3. To keep the past behaviour, explicitly set `max_features='sqrt'` or remove this parameter as it is also the default value for RandomForestClassifiers and ExtraTreesClassifiers.\n",
      "  warn(\n",
      "c:\\Users\\ASUS\\AppData\\Local\\Programs\\Python\\Python39\\lib\\site-packages\\sklearn\\ensemble\\_forest.py:427: FutureWarning: `max_features='auto'` has been deprecated in 1.1 and will be removed in 1.3. To keep the past behaviour, explicitly set `max_features='sqrt'` or remove this parameter as it is also the default value for RandomForestClassifiers and ExtraTreesClassifiers.\n",
      "  warn(\n",
      "c:\\Users\\ASUS\\AppData\\Local\\Programs\\Python\\Python39\\lib\\site-packages\\sklearn\\ensemble\\_forest.py:427: FutureWarning: `max_features='auto'` has been deprecated in 1.1 and will be removed in 1.3. To keep the past behaviour, explicitly set `max_features='sqrt'` or remove this parameter as it is also the default value for RandomForestClassifiers and ExtraTreesClassifiers.\n",
      "  warn(\n",
      "c:\\Users\\ASUS\\AppData\\Local\\Programs\\Python\\Python39\\lib\\site-packages\\sklearn\\ensemble\\_forest.py:427: FutureWarning: `max_features='auto'` has been deprecated in 1.1 and will be removed in 1.3. To keep the past behaviour, explicitly set `max_features='sqrt'` or remove this parameter as it is also the default value for RandomForestClassifiers and ExtraTreesClassifiers.\n",
      "  warn(\n",
      "c:\\Users\\ASUS\\AppData\\Local\\Programs\\Python\\Python39\\lib\\site-packages\\sklearn\\ensemble\\_forest.py:427: FutureWarning: `max_features='auto'` has been deprecated in 1.1 and will be removed in 1.3. To keep the past behaviour, explicitly set `max_features='sqrt'` or remove this parameter as it is also the default value for RandomForestClassifiers and ExtraTreesClassifiers.\n",
      "  warn(\n",
      "c:\\Users\\ASUS\\AppData\\Local\\Programs\\Python\\Python39\\lib\\site-packages\\sklearn\\ensemble\\_forest.py:427: FutureWarning: `max_features='auto'` has been deprecated in 1.1 and will be removed in 1.3. To keep the past behaviour, explicitly set `max_features='sqrt'` or remove this parameter as it is also the default value for RandomForestClassifiers and ExtraTreesClassifiers.\n",
      "  warn(\n",
      "c:\\Users\\ASUS\\AppData\\Local\\Programs\\Python\\Python39\\lib\\site-packages\\sklearn\\ensemble\\_forest.py:427: FutureWarning: `max_features='auto'` has been deprecated in 1.1 and will be removed in 1.3. To keep the past behaviour, explicitly set `max_features='sqrt'` or remove this parameter as it is also the default value for RandomForestClassifiers and ExtraTreesClassifiers.\n",
      "  warn(\n",
      "c:\\Users\\ASUS\\AppData\\Local\\Programs\\Python\\Python39\\lib\\site-packages\\sklearn\\ensemble\\_forest.py:427: FutureWarning: `max_features='auto'` has been deprecated in 1.1 and will be removed in 1.3. To keep the past behaviour, explicitly set `max_features='sqrt'` or remove this parameter as it is also the default value for RandomForestClassifiers and ExtraTreesClassifiers.\n",
      "  warn(\n",
      "c:\\Users\\ASUS\\AppData\\Local\\Programs\\Python\\Python39\\lib\\site-packages\\sklearn\\ensemble\\_forest.py:427: FutureWarning: `max_features='auto'` has been deprecated in 1.1 and will be removed in 1.3. To keep the past behaviour, explicitly set `max_features='sqrt'` or remove this parameter as it is also the default value for RandomForestClassifiers and ExtraTreesClassifiers.\n",
      "  warn(\n",
      "c:\\Users\\ASUS\\AppData\\Local\\Programs\\Python\\Python39\\lib\\site-packages\\sklearn\\ensemble\\_forest.py:427: FutureWarning: `max_features='auto'` has been deprecated in 1.1 and will be removed in 1.3. To keep the past behaviour, explicitly set `max_features='sqrt'` or remove this parameter as it is also the default value for RandomForestClassifiers and ExtraTreesClassifiers.\n",
      "  warn(\n",
      "c:\\Users\\ASUS\\AppData\\Local\\Programs\\Python\\Python39\\lib\\site-packages\\sklearn\\ensemble\\_forest.py:427: FutureWarning: `max_features='auto'` has been deprecated in 1.1 and will be removed in 1.3. To keep the past behaviour, explicitly set `max_features='sqrt'` or remove this parameter as it is also the default value for RandomForestClassifiers and ExtraTreesClassifiers.\n",
      "  warn(\n",
      "c:\\Users\\ASUS\\AppData\\Local\\Programs\\Python\\Python39\\lib\\site-packages\\sklearn\\ensemble\\_forest.py:427: FutureWarning: `max_features='auto'` has been deprecated in 1.1 and will be removed in 1.3. To keep the past behaviour, explicitly set `max_features='sqrt'` or remove this parameter as it is also the default value for RandomForestClassifiers and ExtraTreesClassifiers.\n",
      "  warn(\n",
      "c:\\Users\\ASUS\\AppData\\Local\\Programs\\Python\\Python39\\lib\\site-packages\\sklearn\\ensemble\\_forest.py:427: FutureWarning: `max_features='auto'` has been deprecated in 1.1 and will be removed in 1.3. To keep the past behaviour, explicitly set `max_features='sqrt'` or remove this parameter as it is also the default value for RandomForestClassifiers and ExtraTreesClassifiers.\n",
      "  warn(\n",
      "c:\\Users\\ASUS\\AppData\\Local\\Programs\\Python\\Python39\\lib\\site-packages\\sklearn\\ensemble\\_forest.py:427: FutureWarning: `max_features='auto'` has been deprecated in 1.1 and will be removed in 1.3. To keep the past behaviour, explicitly set `max_features='sqrt'` or remove this parameter as it is also the default value for RandomForestClassifiers and ExtraTreesClassifiers.\n",
      "  warn(\n",
      "c:\\Users\\ASUS\\AppData\\Local\\Programs\\Python\\Python39\\lib\\site-packages\\sklearn\\ensemble\\_forest.py:427: FutureWarning: `max_features='auto'` has been deprecated in 1.1 and will be removed in 1.3. To keep the past behaviour, explicitly set `max_features='sqrt'` or remove this parameter as it is also the default value for RandomForestClassifiers and ExtraTreesClassifiers.\n",
      "  warn(\n",
      "c:\\Users\\ASUS\\AppData\\Local\\Programs\\Python\\Python39\\lib\\site-packages\\sklearn\\ensemble\\_forest.py:427: FutureWarning: `max_features='auto'` has been deprecated in 1.1 and will be removed in 1.3. To keep the past behaviour, explicitly set `max_features='sqrt'` or remove this parameter as it is also the default value for RandomForestClassifiers and ExtraTreesClassifiers.\n",
      "  warn(\n",
      "c:\\Users\\ASUS\\AppData\\Local\\Programs\\Python\\Python39\\lib\\site-packages\\sklearn\\ensemble\\_forest.py:427: FutureWarning: `max_features='auto'` has been deprecated in 1.1 and will be removed in 1.3. To keep the past behaviour, explicitly set `max_features='sqrt'` or remove this parameter as it is also the default value for RandomForestClassifiers and ExtraTreesClassifiers.\n",
      "  warn(\n",
      "c:\\Users\\ASUS\\AppData\\Local\\Programs\\Python\\Python39\\lib\\site-packages\\sklearn\\ensemble\\_forest.py:427: FutureWarning: `max_features='auto'` has been deprecated in 1.1 and will be removed in 1.3. To keep the past behaviour, explicitly set `max_features='sqrt'` or remove this parameter as it is also the default value for RandomForestClassifiers and ExtraTreesClassifiers.\n",
      "  warn(\n"
     ]
    },
    {
     "name": "stdout",
     "output_type": "stream",
     "text": [
      "Với max depth = 8 thì mô hình Decision Tree có accuracy = 0.963\n"
     ]
    }
   ],
   "source": [
    "# Hiệu chỉnh mô hình\n",
    "accury_rf = 0\n",
    "depth = 0\n",
    "for i in range(1,50):\n",
    "    RF_classifier = RandomForestClassifier(bootstrap=True, criterion='gini',\n",
    "    max_depth=i, max_features='auto', min_samples_leaf=1, min_samples_split=2,\n",
    "    min_weight_fraction_leaf=0.0,n_jobs=1, random_state=n_state)\n",
    "\n",
    "    RF_classifier.fit(x_train, y_train.ravel())\n",
    "\n",
    "    y_pred = RF_classifier.predict(x_test)\n",
    "\n",
    "    accury_results = round(accuracy_score(y_test, y_pred),4)\n",
    "    if accury_results > accury_rf:\n",
    "        accury_rf = accury_results\n",
    "        depth = i\n",
    "\n",
    "print(f'Với max depth = {depth} thì mô hình Random Forest có accuracy = {accury_rf}')"
   ]
  },
  {
   "cell_type": "code",
   "execution_count": 153,
   "metadata": {},
   "outputs": [
    {
     "name": "stdout",
     "output_type": "stream",
     "text": [
      "Confusion Matrix:\n",
      "[[20  0]\n",
      " [ 2 32]]\n",
      "\n",
      "Report model:\n",
      "              precision    recall  f1-score   support\n",
      "\n",
      "           0       0.91      1.00      0.95        20\n",
      "           1       1.00      0.94      0.97        34\n",
      "\n",
      "    accuracy                           0.96        54\n",
      "   macro avg       0.95      0.97      0.96        54\n",
      "weighted avg       0.97      0.96      0.96        54\n",
      "\n",
      "Random Forest accuracy:  0.963\n"
     ]
    }
   ],
   "source": [
    "# Xây dựng mô hình Random Forest\n",
    "RF_classifier = RandomForestClassifier(random_state=n_state,max_depth=depth)\n",
    "RF_classifier.fit(x_train, y_train.ravel())\n",
    "\n",
    "# Dự báo giá trị biến phụ thuộc\n",
    "y_pred = RF_classifier.predict(x_test)\n",
    "\n",
    "# Ma trận bối rối\n",
    "print(f'Confusion Matrix:\\n{confusion_matrix(y_test,y_pred)}\\n')\n",
    "\n",
    "# Báo cáo phân loại\n",
    "print(f'Report model:\\n{classification_report(y_test,y_pred)}')\n",
    "\n",
    "# Tỉ lệ chính xác accuracy\n",
    "print('Random Forest accuracy: ', round(accuracy_score(y_test, y_pred),4))"
   ]
  },
  {
   "cell_type": "code",
   "execution_count": 154,
   "metadata": {},
   "outputs": [
    {
     "data": {
      "image/png": "[encoded data removed]",
      "text/plain": [
       "<Figure size 720x576 with 1 Axes>"
      ]
     },
     "metadata": {
      "needs_background": "light"
     },
     "output_type": "display_data"
    }
   ],
   "source": [
    "# ROC\n",
    "y_pred_prob_test = RF_classifier.predict_proba(x_test)[:, 1]\n",
    "fpr, tpr, thres = roc_curve(y_test, y_pred_prob_test)\n",
    "roc_auc = auc(fpr, tpr)\n",
    "\n",
    "_plot_roc_curve(fpr, tpr, thres, roc_auc)"
   ]
  },
  {
   "cell_type": "code",
   "execution_count": 155,
   "metadata": {},
   "outputs": [],
   "source": [
    "# Xây dựng dataFrame so sánh giữa dữ liệu thực tế và dữ liệu dự báo \n",
    "y_test_reshape = np.squeeze(y_test)\n",
    "\n",
    "pre_table = pd.DataFrame({'y_test': y_test_reshape,\n",
    "              'y_predict': y_pred})\n",
    "\n",
    "x_test_table = pd.DataFrame(x_test,columns=feature)\n",
    "\n",
    "x_test_table['y_test'] = pre_table['y_test']\n",
    "x_test_table['y_predict'] = pre_table['y_predict']"
   ]
  },
  {
   "cell_type": "code",
   "execution_count": 156,
   "metadata": {},
   "outputs": [
    {
     "data": {
      "text/html": [
       "<div>\n",
       "<style scoped>\n",
       "    .dataframe tbody tr th:only-of-type {\n",
       "        vertical-align: middle;\n",
       "    }\n",
       "\n",
       "    .dataframe tbody tr th {\n",
       "        vertical-align: top;\n",
       "    }\n",
       "\n",
       "    .dataframe thead th {\n",
       "        text-align: right;\n",
       "    }\n",
       "</style>\n",
       "<table border=\"1\" class=\"dataframe\">\n",
       "  <thead>\n",
       "    <tr style=\"text-align: right;\">\n",
       "      <th></th>\n",
       "      <th>Work status</th>\n",
       "      <th>Collateral</th>\n",
       "      <th>Age</th>\n",
       "      <th>Marriage</th>\n",
       "      <th>Loan purpose</th>\n",
       "      <th>Sex</th>\n",
       "      <th>Income</th>\n",
       "      <th>y_test</th>\n",
       "      <th>y_predict</th>\n",
       "    </tr>\n",
       "  </thead>\n",
       "  <tbody>\n",
       "    <tr>\n",
       "      <th>0</th>\n",
       "      <td>1</td>\n",
       "      <td>4</td>\n",
       "      <td>2</td>\n",
       "      <td>1</td>\n",
       "      <td>2</td>\n",
       "      <td>0</td>\n",
       "      <td>31</td>\n",
       "      <td>1</td>\n",
       "      <td>1</td>\n",
       "    </tr>\n",
       "    <tr>\n",
       "      <th>1</th>\n",
       "      <td>1</td>\n",
       "      <td>4</td>\n",
       "      <td>2</td>\n",
       "      <td>2</td>\n",
       "      <td>1</td>\n",
       "      <td>0</td>\n",
       "      <td>33</td>\n",
       "      <td>1</td>\n",
       "      <td>1</td>\n",
       "    </tr>\n",
       "    <tr>\n",
       "      <th>2</th>\n",
       "      <td>3</td>\n",
       "      <td>1</td>\n",
       "      <td>1</td>\n",
       "      <td>1</td>\n",
       "      <td>1</td>\n",
       "      <td>1</td>\n",
       "      <td>18</td>\n",
       "      <td>0</td>\n",
       "      <td>0</td>\n",
       "    </tr>\n",
       "    <tr>\n",
       "      <th>3</th>\n",
       "      <td>3</td>\n",
       "      <td>1</td>\n",
       "      <td>1</td>\n",
       "      <td>3</td>\n",
       "      <td>1</td>\n",
       "      <td>1</td>\n",
       "      <td>14</td>\n",
       "      <td>0</td>\n",
       "      <td>0</td>\n",
       "    </tr>\n",
       "    <tr>\n",
       "      <th>4</th>\n",
       "      <td>2</td>\n",
       "      <td>1</td>\n",
       "      <td>1</td>\n",
       "      <td>3</td>\n",
       "      <td>1</td>\n",
       "      <td>1</td>\n",
       "      <td>16</td>\n",
       "      <td>0</td>\n",
       "      <td>0</td>\n",
       "    </tr>\n",
       "  </tbody>\n",
       "</table>\n",
       "</div>"
      ],
      "text/plain": [
       "  Work status Collateral Age Marriage Loan purpose Sex Income  y_test  \\\n",
       "0           1          4   2        1            2   0     31       1   \n",
       "1           1          4   2        2            1   0     33       1   \n",
       "2           3          1   1        1            1   1     18       0   \n",
       "3           3          1   1        3            1   1     14       0   \n",
       "4           2          1   1        3            1   1     16       0   \n",
       "\n",
       "   y_predict  \n",
       "0          1  \n",
       "1          1  \n",
       "2          0  \n",
       "3          0  \n",
       "4          0  "
      ]
     },
     "execution_count": 156,
     "metadata": {},
     "output_type": "execute_result"
    }
   ],
   "source": [
    "x_test_table.head()"
   ]
  },
  {
   "cell_type": "code",
   "execution_count": 157,
   "metadata": {},
   "outputs": [],
   "source": [
    "# Tìm ra các dòng dữ liệu dự báo sai với thực tế\n",
    "wrong_list = []\n",
    "wrong_list_index = []\n",
    "\n",
    "for i in range(len(x_test_table)):\n",
    "    if x_test_table.iloc[i][7] != x_test_table.iloc[i][8]:\n",
    "        wrong_list.append(x_test_table.iloc[i][:7].tolist())\n",
    "\n",
    "for k in range(len(wrong_list)):\n",
    "    for j in range(len(df)):\n",
    "        if wrong_list[k] == df.iloc[j][1:].tolist():\n",
    "            # print(f'Vị trí mô hình dự báo sai: {j}') \n",
    "            wrong_list_index.append(j)"
   ]
  },
  {
   "cell_type": "code",
   "execution_count": 158,
   "metadata": {},
   "outputs": [
    {
     "name": "stdout",
     "output_type": "stream",
     "text": [
      "Vị trí mô hình dự báo sai ở dòng thứ 43:\n",
      "Default          1\n",
      "Work status      2\n",
      "Collateral       1\n",
      "Age              2\n",
      "Marriage         1\n",
      "Loan purpose     2\n",
      "Sex              1\n",
      "Income          15\n",
      "Name: 43, dtype: int64\n",
      "\n",
      "Vị trí mô hình dự báo sai ở dòng thứ 47:\n",
      "Default          1\n",
      "Work status      2\n",
      "Collateral       2\n",
      "Age              3\n",
      "Marriage         1\n",
      "Loan purpose     2\n",
      "Sex              1\n",
      "Income          16\n",
      "Name: 47, dtype: int64\n",
      "\n"
     ]
    }
   ],
   "source": [
    "wrong_list_index = sorted(wrong_list_index)\n",
    "for w in wrong_list_index:\n",
    "    print(f'Vị trí mô hình dự báo sai ở dòng thứ {w+1}:\\n{df.iloc[w]}\\n')"
   ]
  },
  {
   "cell_type": "code",
   "execution_count": 159,
   "metadata": {},
   "outputs": [
    {
     "data": {
      "text/html": [
       "<div>\n",
       "<style scoped>\n",
       "    .dataframe tbody tr th:only-of-type {\n",
       "        vertical-align: middle;\n",
       "    }\n",
       "\n",
       "    .dataframe tbody tr th {\n",
       "        vertical-align: top;\n",
       "    }\n",
       "\n",
       "    .dataframe thead th {\n",
       "        text-align: right;\n",
       "    }\n",
       "</style>\n",
       "<table border=\"1\" class=\"dataframe\">\n",
       "  <thead>\n",
       "    <tr style=\"text-align: right;\">\n",
       "      <th></th>\n",
       "      <th>FeatureName</th>\n",
       "      <th>Random Forest Feature Importance</th>\n",
       "    </tr>\n",
       "  </thead>\n",
       "  <tbody>\n",
       "    <tr>\n",
       "      <th>1</th>\n",
       "      <td>Collateral</td>\n",
       "      <td>0.326468</td>\n",
       "    </tr>\n",
       "    <tr>\n",
       "      <th>6</th>\n",
       "      <td>Income</td>\n",
       "      <td>0.282443</td>\n",
       "    </tr>\n",
       "    <tr>\n",
       "      <th>0</th>\n",
       "      <td>Work status</td>\n",
       "      <td>0.148481</td>\n",
       "    </tr>\n",
       "    <tr>\n",
       "      <th>4</th>\n",
       "      <td>Loan purpose</td>\n",
       "      <td>0.113922</td>\n",
       "    </tr>\n",
       "    <tr>\n",
       "      <th>3</th>\n",
       "      <td>Marriage</td>\n",
       "      <td>0.053955</td>\n",
       "    </tr>\n",
       "    <tr>\n",
       "      <th>2</th>\n",
       "      <td>Age</td>\n",
       "      <td>0.051038</td>\n",
       "    </tr>\n",
       "    <tr>\n",
       "      <th>5</th>\n",
       "      <td>Sex</td>\n",
       "      <td>0.023692</td>\n",
       "    </tr>\n",
       "  </tbody>\n",
       "</table>\n",
       "</div>"
      ],
      "text/plain": [
       "    FeatureName  Random Forest Feature Importance\n",
       "1    Collateral                          0.326468\n",
       "6        Income                          0.282443\n",
       "0   Work status                          0.148481\n",
       "4  Loan purpose                          0.113922\n",
       "3      Marriage                          0.053955\n",
       "2           Age                          0.051038\n",
       "5           Sex                          0.023692"
      ]
     },
     "execution_count": 159,
     "metadata": {},
     "output_type": "execute_result"
    }
   ],
   "source": [
    "# Các biến quan trọng\n",
    "importance_rf = RF_classifier.feature_importances_\n",
    "features_importances_rf = pd.DataFrame({'FeatureName': feature, 'Random Forest Feature Importance': importance_rf})\n",
    "features_importances_rf.sort_values(by=['Random Forest Feature Importance'], ascending=False)"
   ]
  },
  {
   "cell_type": "code",
   "execution_count": 160,
   "metadata": {},
   "outputs": [
    {
     "data": {
      "image/png": "[encoded data removed]",
      "text/plain": [
       "<Figure size 1080x576 with 1 Axes>"
      ]
     },
     "metadata": {
      "needs_background": "light"
     },
     "output_type": "display_data"
    }
   ],
   "source": [
    "# Trực quan hóa các biến quan trọng\n",
    "features_importances_rf.sort_values(\"Random Forest Feature Importance\").plot(figsize=(15,8), x=\"FeatureName\", y=[\"Random Forest Feature Importance\"], kind=\"barh\");"
   ]
  },
  {
   "cell_type": "markdown",
   "metadata": {},
   "source": [
    "**Dự báo trên bộ dữ liệu khách hàng mới**"
   ]
  },
  {
   "cell_type": "code",
   "execution_count": 161,
   "metadata": {},
   "outputs": [],
   "source": [
    "y_rf_new = DT_classifier.predict(x_pred)\n",
    "y_rf_new = pd.DataFrame(y_rf_new.tolist(),index=df_new.index)\n",
    "y_rf_new.columns = ['Default']\n",
    "\n",
    "rf_predict = pd.concat([y_rf_new,df_new],axis=1)"
   ]
  },
  {
   "cell_type": "code",
   "execution_count": 162,
   "metadata": {},
   "outputs": [
    {
     "data": {
      "text/html": [
       "<div>\n",
       "<style scoped>\n",
       "    .dataframe tbody tr th:only-of-type {\n",
       "        vertical-align: middle;\n",
       "    }\n",
       "\n",
       "    .dataframe tbody tr th {\n",
       "        vertical-align: top;\n",
       "    }\n",
       "\n",
       "    .dataframe thead th {\n",
       "        text-align: right;\n",
       "    }\n",
       "</style>\n",
       "<table border=\"1\" class=\"dataframe\">\n",
       "  <thead>\n",
       "    <tr style=\"text-align: right;\">\n",
       "      <th></th>\n",
       "      <th>Default</th>\n",
       "      <th>Work status</th>\n",
       "      <th>Collateral</th>\n",
       "      <th>Age</th>\n",
       "      <th>Marriage</th>\n",
       "      <th>Loan purpose</th>\n",
       "      <th>Sex</th>\n",
       "      <th>Income</th>\n",
       "    </tr>\n",
       "    <tr>\n",
       "      <th>No.</th>\n",
       "      <th></th>\n",
       "      <th></th>\n",
       "      <th></th>\n",
       "      <th></th>\n",
       "      <th></th>\n",
       "      <th></th>\n",
       "      <th></th>\n",
       "      <th></th>\n",
       "    </tr>\n",
       "  </thead>\n",
       "  <tbody>\n",
       "    <tr>\n",
       "      <th>0</th>\n",
       "      <td>1</td>\n",
       "      <td>1</td>\n",
       "      <td>4</td>\n",
       "      <td>2</td>\n",
       "      <td>2</td>\n",
       "      <td>2</td>\n",
       "      <td>0</td>\n",
       "      <td>57</td>\n",
       "    </tr>\n",
       "    <tr>\n",
       "      <th>1</th>\n",
       "      <td>0</td>\n",
       "      <td>2</td>\n",
       "      <td>2</td>\n",
       "      <td>3</td>\n",
       "      <td>3</td>\n",
       "      <td>1</td>\n",
       "      <td>1</td>\n",
       "      <td>20</td>\n",
       "    </tr>\n",
       "    <tr>\n",
       "      <th>2</th>\n",
       "      <td>0</td>\n",
       "      <td>3</td>\n",
       "      <td>1</td>\n",
       "      <td>3</td>\n",
       "      <td>3</td>\n",
       "      <td>1</td>\n",
       "      <td>1</td>\n",
       "      <td>12</td>\n",
       "    </tr>\n",
       "    <tr>\n",
       "      <th>3</th>\n",
       "      <td>1</td>\n",
       "      <td>1</td>\n",
       "      <td>4</td>\n",
       "      <td>2</td>\n",
       "      <td>2</td>\n",
       "      <td>2</td>\n",
       "      <td>0</td>\n",
       "      <td>38</td>\n",
       "    </tr>\n",
       "    <tr>\n",
       "      <th>4</th>\n",
       "      <td>0</td>\n",
       "      <td>3</td>\n",
       "      <td>1</td>\n",
       "      <td>1</td>\n",
       "      <td>1</td>\n",
       "      <td>1</td>\n",
       "      <td>1</td>\n",
       "      <td>20</td>\n",
       "    </tr>\n",
       "  </tbody>\n",
       "</table>\n",
       "</div>"
      ],
      "text/plain": [
       "     Default  Work status  Collateral  Age  Marriage  Loan purpose  Sex  \\\n",
       "No.                                                                       \n",
       "0          1            1           4    2         2             2    0   \n",
       "1          0            2           2    3         3             1    1   \n",
       "2          0            3           1    3         3             1    1   \n",
       "3          1            1           4    2         2             2    0   \n",
       "4          0            3           1    1         1             1    1   \n",
       "\n",
       "     Income  \n",
       "No.          \n",
       "0        57  \n",
       "1        20  \n",
       "2        12  \n",
       "3        38  \n",
       "4        20  "
      ]
     },
     "execution_count": 162,
     "metadata": {},
     "output_type": "execute_result"
    }
   ],
   "source": [
    "rf_predict.head()"
   ]
  },
  {
   "cell_type": "markdown",
   "metadata": {},
   "source": [
    "# **So sánh kết quả dự báo giữa 3 mô hình**"
   ]
  },
  {
   "cell_type": "code",
   "execution_count": 163,
   "metadata": {},
   "outputs": [
    {
     "ename": "NameError",
     "evalue": "name 'df_predict' is not defined",
     "output_type": "error",
     "traceback": [
      "\u001b[1;31m---------------------------------------------------------------------------\u001b[0m",
      "\u001b[1;31mNameError\u001b[0m                                 Traceback (most recent call last)",
      "\u001b[1;32m<ipython-input-163-8efa493a03e0>\u001b[0m in \u001b[0;36m<module>\u001b[1;34m\u001b[0m\n\u001b[0;32m      1\u001b[0m \u001b[1;31m# Tạo dataframe\u001b[0m\u001b[1;33m\u001b[0m\u001b[1;33m\u001b[0m\u001b[1;33m\u001b[0m\u001b[0m\n\u001b[1;32m----> 2\u001b[1;33m compare = pd.DataFrame({'Logistic regression': df_predict['Default'],\n\u001b[0m\u001b[0;32m      3\u001b[0m                         \u001b[1;34m'Desition tree'\u001b[0m\u001b[1;33m:\u001b[0m \u001b[0mdf_dt_predict\u001b[0m\u001b[1;33m[\u001b[0m\u001b[1;34m'Default'\u001b[0m\u001b[1;33m]\u001b[0m\u001b[1;33m,\u001b[0m\u001b[1;33m\u001b[0m\u001b[1;33m\u001b[0m\u001b[0m\n\u001b[0;32m      4\u001b[0m                         'Random forest': df_rf_predict['Default']})\n",
      "\u001b[1;31mNameError\u001b[0m: name 'df_predict' is not defined"
     ]
    }
   ],
   "source": [
    "# Tạo dataframe \n",
    "compare = pd.DataFrame({'Logistic regression': df_predict['Default'],\n",
    "                        'Desition tree': df_dt_predict['Default'],\n",
    "                        'Random forest': df_rf_predict['Default']})"
   ]
  },
  {
   "cell_type": "code",
   "execution_count": null,
   "metadata": {},
   "outputs": [],
   "source": [
    "# Tìm ra các dòng có sự khác biệt về kết quả dự báo giữa 3 mô hình.\n",
    "list_predict_wrong = []\n",
    "for i in range(0,len(compare)):\n",
    "    if (compare.iloc[i,0] != compare.iloc[i,1]) or (compare.iloc[i,0] != compare.iloc[i,2]):\n",
    "        list_predict_wrong.append(i)"
   ]
  },
  {
   "cell_type": "code",
   "execution_count": null,
   "metadata": {},
   "outputs": [
    {
     "data": {
      "text/html": [
       "<div>\n",
       "<style scoped>\n",
       "    .dataframe tbody tr th:only-of-type {\n",
       "        vertical-align: middle;\n",
       "    }\n",
       "\n",
       "    .dataframe tbody tr th {\n",
       "        vertical-align: top;\n",
       "    }\n",
       "\n",
       "    .dataframe thead th {\n",
       "        text-align: right;\n",
       "    }\n",
       "</style>\n",
       "<table border=\"1\" class=\"dataframe\">\n",
       "  <thead>\n",
       "    <tr style=\"text-align: right;\">\n",
       "      <th></th>\n",
       "      <th>Logistic regression</th>\n",
       "      <th>Desition tree</th>\n",
       "      <th>Random forest</th>\n",
       "    </tr>\n",
       "    <tr>\n",
       "      <th>No.</th>\n",
       "      <th></th>\n",
       "      <th></th>\n",
       "      <th></th>\n",
       "    </tr>\n",
       "  </thead>\n",
       "  <tbody>\n",
       "    <tr>\n",
       "      <th>8</th>\n",
       "      <td>1</td>\n",
       "      <td>0</td>\n",
       "      <td>0</td>\n",
       "    </tr>\n",
       "    <tr>\n",
       "      <th>13</th>\n",
       "      <td>1</td>\n",
       "      <td>0</td>\n",
       "      <td>0</td>\n",
       "    </tr>\n",
       "    <tr>\n",
       "      <th>37</th>\n",
       "      <td>0</td>\n",
       "      <td>1</td>\n",
       "      <td>1</td>\n",
       "    </tr>\n",
       "  </tbody>\n",
       "</table>\n",
       "</div>"
      ],
      "text/plain": [
       "     Logistic regression  Desition tree  Random forest\n",
       "No.                                                   \n",
       "8                      1              0              0\n",
       "13                     1              0              0\n",
       "37                     0              1              1"
      ]
     },
     "execution_count": 170,
     "metadata": {},
     "output_type": "execute_result"
    }
   ],
   "source": [
    "compare.loc[list_predict_wrong]"
   ]
  }
 ],
 "metadata": {
  "interpreter": {
   "hash": "14958d3aee5f1cad06795f787e54b96185c25fb40dfec723a5be941f3a531b8c"
  },
  "kernelspec": {
   "display_name": "Python 3.9.1 64-bit",
   "language": "python",
   "name": "python3"
  },
  "language_info": {
   "codemirror_mode": {
    "name": "ipython",
    "version": 3
   },
   "file_extension": ".py",
   "mimetype": "text/x-python",
   "name": "python",
   "nbconvert_exporter": "python",
   "pygments_lexer": "ipython3",
   "version": "3.9.1"
  },
  "orig_nbformat": 4
 },
 "nbformat": 4,
 "nbformat_minor": 2
}
